{
 "cells": [
  {
   "cell_type": "code",
   "execution_count": null,
   "id": "38d4b80c-ad77-44a4-ba0d-e909a301ebba",
   "metadata": {},
   "outputs": [],
   "source": [
    "%load_ext autoreload\n",
    "%autoreload 2"
   ]
  },
  {
   "cell_type": "code",
   "execution_count": null,
   "id": "777f8206-5b77-4291-b1d1-ded55fb935ed",
   "metadata": {},
   "outputs": [],
   "source": [
    "# Standard imports\n",
    "import numpy as np\n",
    "import xarray as xr\n",
    "import tqdm as tqdm"
   ]
  },
  {
   "cell_type": "code",
   "execution_count": null,
   "id": "d72ec74e-c774-405b-a991-40acce1d808b",
   "metadata": {},
   "outputs": [],
   "source": [
    "# Import OpenSense modules as submodules\n",
    "import sys\n",
    "import os\n",
    "\n",
    "sys.path.append(os.path.abspath(\"./pycomlink/\"))\n",
    "sys.path.append(os.path.abspath(\"./poligrain/src/\"))\n",
    "sys.path.append(os.path.abspath(\"./mergeplg/src/\"))\n",
    "\n",
    "import pycomlink as pycml \n",
    "import poligrain as plg\n",
    "import mergeplg "
   ]
  },
  {
   "cell_type": "markdown",
   "id": "b44eefd4",
   "metadata": {},
   "source": [
    "# OpenMRG"
   ]
  },
  {
   "cell_type": "code",
   "execution_count": null,
   "id": "86523eba-9605-40f7-b2fd-9915394b5999",
   "metadata": {},
   "outputs": [],
   "source": [
    "# OpenMRG\n",
    "ds_rad = xr.open_dataset(\"data/andersson_2022_OpenMRG/radar/openmrg_rad.nc\")                    \n",
    "ds_cmls = xr.open_dataset(\"data/processed_cml_OpenMRG.nc\").R_acc                                  "
   ]
  },
  {
   "cell_type": "markdown",
   "id": "7ffe30d1-0201-4f07-9d12-838ee8a2346c",
   "metadata": {},
   "source": [
    "# Adjust rainfall fields"
   ]
  },
  {
   "cell_type": "code",
   "execution_count": null,
   "id": "86e730c0",
   "metadata": {},
   "outputs": [],
   "source": [
    "os.makedirs('data/adjusted_fields', exist_ok=True)\n",
    "months = ['2015-06', '2015-07', '2015-08']"
   ]
  },
  {
   "cell_type": "code",
   "execution_count": null,
   "id": "c81c344d",
   "metadata": {},
   "outputs": [],
   "source": [
    "# IDW\n",
    "nnear = 12 \n",
    "rainfall = []\n",
    "\n",
    "for month in months:\n",
    "    print('month: '+month)\n",
    "    msel_ds_rad = ds_rad.sel(time = month) \n",
    "    msel_ds_cmls = ds_cmls.sel(time = month) \n",
    "    # IDW merging initialization \n",
    "    merger = mergeplg.merge.MergeDifferenceIDW(\n",
    "        ds_rad=msel_ds_rad.rainfall_amount,\n",
    "        ds_cmls=msel_ds_cmls,\n",
    "        method=\"additive\",\n",
    "        nnear=nnear,\n",
    "    )\n",
    "    # merging application (loop on timesteps)\n",
    "    for time in tqdm.tqdm(msel_ds_rad.time.data):\n",
    "        rainfall.append(\n",
    "            merger(\n",
    "                da_rad=msel_ds_rad.sel(time=time).rainfall_amount,\n",
    "                da_cmls=msel_ds_cmls.sel(time=time),\n",
    "            )\n",
    "        )\n",
    "# saving the field + removing NaNs \n",
    "data = xr.Dataset({\"rainfall_add_IDW\": xr.concat(rainfall, dim=\"time\") })\n",
    "data['rainfall_add_IDW']=xr.where(\n",
    "    np.isnan(data['rainfall_add_IDW']), 0, data['rainfall_add_IDW']\n",
    "    )\n",
    "data.to_netcdf('data/adjusted_fields/OpenMRG_rainfall_add_IDW.nc')    \n",
    "del data, merger"
   ]
  },
  {
   "cell_type": "code",
   "execution_count": null,
   "id": "6d78e1e9",
   "metadata": {},
   "outputs": [],
   "source": [
    "# POINT BLOCK KRIGING\n",
    "variogram_parameters = {\"sill\": 0.9, \"range\": 10000, \"nugget\": 0.4}\n",
    "nnear = 12\n",
    "rainfall = []\n",
    "\n",
    "for month in months:\n",
    "    print('month: '+month)\n",
    "    msel_ds_rad = ds_rad.sel(time = month) \n",
    "    msel_ds_cmls = ds_cmls.sel(time = month) \n",
    "    # OK merging initialization\n",
    "    merger = mergeplg.merge.MergeDifferenceOrdinaryKriging(\n",
    "        ds_rad=msel_ds_rad.rainfall_amount,\n",
    "        ds_cmls=msel_ds_cmls,\n",
    "        full_line=False,\n",
    "        variogram_parameters=variogram_parameters,\n",
    "        nnear=nnear,\n",
    "        method=\"additive\",\n",
    "    )\n",
    "    # merging application (loop on timesteps)\n",
    "    for time in tqdm.tqdm(msel_ds_rad.time.data):\n",
    "        rainfall.append(\n",
    "            merger(\n",
    "                da_rad=msel_ds_rad.sel(time=time).rainfall_amount,\n",
    "                da_cmls=msel_ds_cmls.sel(time=time),\n",
    "            )\n",
    "        )\n",
    "# saving the field + removing NaNs \n",
    "data = xr.Dataset({\"rainfall_add_pBK\": xr.concat(rainfall, dim=\"time\") })\n",
    "data['rainfall_add_pBK']=xr.where(\n",
    "    np.isnan(data['rainfall_add_pBK']), 0, data['rainfall_add_pBK']\n",
    "    )\n",
    "data.to_netcdf('data/adjusted_fields/OpenMRG_rainfall_add_pBK.nc')    \n",
    "del data, merger"
   ]
  },
  {
   "cell_type": "code",
   "execution_count": null,
   "id": "0abab7a9",
   "metadata": {},
   "outputs": [],
   "source": [
    "# LINE BLOCK KRIGING\n",
    "variogram_parameters = {\"sill\": 0.9, \"range\": 10000, \"nugget\": 0.4}\n",
    "nnear = 12\n",
    "rainfall = []\n",
    "\n",
    "for month in months:\n",
    "    print('month: '+month)\n",
    "    msel_ds_rad = ds_rad.sel(time = month) \n",
    "    msel_ds_cmls = ds_cmls.sel(time = month) \n",
    "    # OK merging initialization\n",
    "    merger = mergeplg.merge.MergeDifferenceOrdinaryKriging(\n",
    "        ds_rad=msel_ds_rad.rainfall_amount,\n",
    "        ds_cmls=msel_ds_cmls,\n",
    "        full_line=True,\n",
    "        variogram_parameters=variogram_parameters,\n",
    "        nnear=nnear,\n",
    "        method=\"additive\",\n",
    "    )\n",
    "    # merging application (loop on timesteps)\n",
    "    for time in tqdm.tqdm(msel_ds_rad.time.data):\n",
    "        rainfall.append(\n",
    "            merger(\n",
    "                da_rad=msel_ds_rad.sel(time=time).rainfall_amount,\n",
    "                da_cmls=msel_ds_cmls.sel(time=time),\n",
    "            )\n",
    "        )\n",
    "# saving the field + removing NaNs \n",
    "data = xr.Dataset({\"rainfall_add_lBK\": xr.concat(rainfall, dim=\"time\") })\n",
    "data['rainfall_add_lBK']=xr.where(\n",
    "    np.isnan(data['rainfall_add_lBK']), 0, data['rainfall_add_lBK']\n",
    "    )\n",
    "data.to_netcdf('data/adjusted_fields/OpenMRG_rainfall_add_lBK.nc')    \n",
    "del data, merger"
   ]
  },
  {
   "cell_type": "markdown",
   "id": "648116b1",
   "metadata": {},
   "source": [
    "# OpenRainER"
   ]
  },
  {
   "cell_type": "code",
   "execution_count": null,
   "id": "dee12b42",
   "metadata": {},
   "outputs": [],
   "source": [
    "# OpenRainER\n",
    "ds_rad = xr.open_dataset(\"data/covi_2024_OpenRainER/openrainer_radar.nc\")         \n",
    "ds_cmls = xr.open_dataset(\"data/processed_cml_OpenRainER.nc\").R_acc                     "
   ]
  },
  {
   "cell_type": "markdown",
   "id": "a13c51a3",
   "metadata": {},
   "source": [
    "# Adjust rainfall fields"
   ]
  },
  {
   "cell_type": "code",
   "execution_count": null,
   "id": "b66d7b9c",
   "metadata": {},
   "outputs": [],
   "source": [
    "os.makedirs('data/adjusted_fields', exist_ok=True)\n",
    "months = ['2022-07', '2022-08']"
   ]
  },
  {
   "cell_type": "code",
   "execution_count": null,
   "id": "48481fd7",
   "metadata": {},
   "outputs": [],
   "source": [
    "# IDW\n",
    "nnear = 12 \n",
    "rainfall = []\n",
    "\n",
    "for month in months:\n",
    "    print('month: '+month)\n",
    "    msel_ds_rad = ds_rad.sel(time = month) \n",
    "    msel_ds_cmls = ds_cmls.sel(time = month) \n",
    "    # IDW merging initialization \n",
    "    merger = mergeplg.merge.MergeDifferenceIDW(\n",
    "        ds_rad=msel_ds_rad.rainfall_amount,\n",
    "        ds_cmls=msel_ds_cmls,\n",
    "        method=\"additive\",\n",
    "        nnear=nnear,\n",
    "    )\n",
    "    # merging application (loop on timesteps)\n",
    "    for time in tqdm.tqdm(msel_ds_rad.time.data):\n",
    "        rainfall.append(\n",
    "            merger(\n",
    "                da_rad=msel_ds_rad.sel(time=time).rainfall_amount,\n",
    "                da_cmls=msel_ds_cmls.sel(time=time),\n",
    "            )\n",
    "        )\n",
    "# saving the field + removing NaNs \n",
    "data = xr.Dataset({\"rainfall_add_IDW\": xr.concat(rainfall, dim=\"time\") })\n",
    "data['rainfall_add_IDW']=xr.where(\n",
    "    np.isnan(data['rainfall_add_IDW']), 0, data['rainfall_add_IDW']\n",
    "    )\n",
    "data.to_netcdf('data/adjusted_fields/OpenRainER_rainfall_add_IDW.nc')    \n",
    "del data, merger"
   ]
  },
  {
   "cell_type": "code",
   "execution_count": null,
   "id": "671a6fa7",
   "metadata": {},
   "outputs": [],
   "source": [
    "# POINT BLOCK KRIGING\n",
    "variogram_parameters = {\"sill\": 0.9, \"range\": 10000, \"nugget\": 0.4}\n",
    "nnear = 12\n",
    "rainfall = []\n",
    "\n",
    "for month in months:\n",
    "    print('month: '+month)\n",
    "    msel_ds_rad = ds_rad.sel(time = month) \n",
    "    msel_ds_cmls = ds_cmls.sel(time = month) \n",
    "    # OK merging initialization\n",
    "    merger = mergeplg.merge.MergeDifferenceOrdinaryKriging(\n",
    "        ds_rad=msel_ds_rad.rainfall_amount,\n",
    "        ds_cmls=msel_ds_cmls,\n",
    "        full_line=False,\n",
    "        variogram_parameters=variogram_parameters,\n",
    "        nnear=nnear,\n",
    "        method=\"additive\",\n",
    "    )\n",
    "    # merging application (loop on timesteps)\n",
    "    for time in tqdm.tqdm(msel_ds_rad.time.data):\n",
    "        rainfall.append(\n",
    "            merger(\n",
    "                da_rad=msel_ds_rad.sel(time=time).rainfall_amount,\n",
    "                da_cmls=msel_ds_cmls.sel(time=time),\n",
    "            )\n",
    "        )\n",
    "# saving the field + removing NaNs \n",
    "data = xr.Dataset({\"rainfall_add_pBK\": xr.concat(rainfall, dim=\"time\") })\n",
    "data['rainfall_add_pBK']=xr.where(\n",
    "    np.isnan(data['rainfall_add_pBK']), 0, data['rainfall_add_pBK']\n",
    "    )\n",
    "data.to_netcdf('data/adjusted_fields/OpenRainER_rainfall_add_pBK.nc')    \n",
    "del data, merger"
   ]
  },
  {
   "cell_type": "code",
   "execution_count": null,
   "id": "1fade00a",
   "metadata": {},
   "outputs": [],
   "source": [
    "# LINE BLOCK KRIGING\n",
    "variogram_parameters = {\"sill\": 0.9, \"range\": 10000, \"nugget\": 0.4}\n",
    "nnear = 12\n",
    "rainfall = []\n",
    "\n",
    "for month in months:\n",
    "    print('month: '+month)\n",
    "    msel_ds_rad = ds_rad.sel(time = month) \n",
    "    msel_ds_cmls = ds_cmls.sel(time = month) \n",
    "    # OK merging initialization\n",
    "    merger = mergeplg.merge.MergeDifferenceOrdinaryKriging(\n",
    "        ds_rad=msel_ds_rad.rainfall_amount,\n",
    "        ds_cmls=msel_ds_cmls,\n",
    "        full_line=True,\n",
    "        variogram_parameters=variogram_parameters,\n",
    "        nnear=nnear,\n",
    "        method=\"additive\",\n",
    "    )\n",
    "    # merging application (loop on timesteps)\n",
    "    for time in tqdm.tqdm(msel_ds_rad.time.data):\n",
    "        rainfall.append(\n",
    "            merger(\n",
    "                da_rad=msel_ds_rad.sel(time=time).rainfall_amount,\n",
    "                da_cmls=msel_ds_cmls.sel(time=time),\n",
    "            )\n",
    "        )\n",
    "# saving the field + removing NaNs \n",
    "data = xr.Dataset({\"rainfall_add_lBK\": xr.concat(rainfall, dim=\"time\") })\n",
    "data['rainfall_add_lBK']=xr.where(\n",
    "    np.isnan(data['rainfall_add_lBK']), 0, data['rainfall_add_lBK']\n",
    "    )\n",
    "data.to_netcdf('data/adjusted_fields/OpenRainER_rainfall_add_lBK.nc')    \n",
    "del data, merger"
   ]
  }
 ],
 "metadata": {
  "kernelspec": {
   "display_name": "BasicEnv",
   "language": "python",
   "name": "python3"
  },
  "language_info": {
   "codemirror_mode": {
    "name": "ipython",
    "version": 3
   },
   "file_extension": ".py",
   "mimetype": "text/x-python",
   "name": "python",
   "nbconvert_exporter": "python",
   "pygments_lexer": "ipython3",
   "version": "3.12.6"
  }
 },
 "nbformat": 4,
 "nbformat_minor": 5
}
