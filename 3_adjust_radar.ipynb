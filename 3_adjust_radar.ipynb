{
 "cells": [
  {
   "cell_type": "code",
   "execution_count": 1,
   "id": "38d4b80c-ad77-44a4-ba0d-e909a301ebba",
   "metadata": {},
   "outputs": [],
   "source": [
    "%load_ext autoreload\n",
    "%autoreload 2"
   ]
  },
  {
   "cell_type": "code",
   "execution_count": 2,
   "id": "777f8206-5b77-4291-b1d1-ded55fb935ed",
   "metadata": {},
   "outputs": [],
   "source": [
    "# Standard imports\n",
    "import numpy as np\n",
    "import xarray as xr\n",
    "import tqdm as tqdm"
   ]
  },
  {
   "cell_type": "code",
   "execution_count": 3,
   "id": "d72ec74e-c774-405b-a991-40acce1d808b",
   "metadata": {},
   "outputs": [],
   "source": [
    "# Import OpenSense modules as submodules\n",
    "import sys\n",
    "import os\n",
    "\n",
    "sys.path.append(os.path.abspath(\"./pycomlink/\"))\n",
    "sys.path.append(os.path.abspath(\"./poligrain/src/\"))\n",
    "sys.path.append(os.path.abspath(\"./mergeplg/src/\"))\n",
    "\n",
    "import pycomlink as pycml \n",
    "import poligrain as plg\n",
    "import mergeplg "
   ]
  },
  {
   "cell_type": "markdown",
   "id": "b44eefd4",
   "metadata": {},
   "source": [
    "# OpenMRG"
   ]
  },
  {
   "cell_type": "code",
   "execution_count": 9,
   "id": "86523eba-9605-40f7-b2fd-9915394b5999",
   "metadata": {},
   "outputs": [],
   "source": [
    "# OpenMRG\n",
    "ds_rad = xr.open_dataset(\"data/andersson_2022_OpenMRG/radar/openmrg_rad.nc\")                    \n",
    "ds_cmls = xr.open_dataset(\"data/processed_cml_OpenMRG.nc\").R_acc                                  "
   ]
  },
  {
   "cell_type": "markdown",
   "id": "7ffe30d1-0201-4f07-9d12-838ee8a2346c",
   "metadata": {},
   "source": [
    "# Adjust rainfall fields"
   ]
  },
  {
   "cell_type": "code",
   "execution_count": 10,
   "id": "86e730c0",
   "metadata": {},
   "outputs": [],
   "source": [
    "os.makedirs('data/adjusted_fields', exist_ok=True)\n",
    "months = ['2015-06', '2015-07', '2015-08']"
   ]
  },
  {
   "cell_type": "code",
   "execution_count": 6,
   "id": "c81c344d",
   "metadata": {},
   "outputs": [
    {
     "name": "stdout",
     "output_type": "stream",
     "text": [
      "month: 2015-06\n"
     ]
    },
    {
     "name": "stderr",
     "output_type": "stream",
     "text": [
      "100%|██████████| 719/719 [00:09<00:00, 78.58it/s]\n"
     ]
    },
    {
     "name": "stdout",
     "output_type": "stream",
     "text": [
      "month: 2015-07\n"
     ]
    },
    {
     "name": "stderr",
     "output_type": "stream",
     "text": [
      "100%|██████████| 744/744 [00:08<00:00, 85.52it/s]\n"
     ]
    },
    {
     "name": "stdout",
     "output_type": "stream",
     "text": [
      "month: 2015-08\n"
     ]
    },
    {
     "name": "stderr",
     "output_type": "stream",
     "text": [
      "100%|██████████| 744/744 [00:09<00:00, 80.58it/s]\n"
     ]
    }
   ],
   "source": [
    "# additive IDW\n",
    "nnear = 12 \n",
    "rainfall = []\n",
    "\n",
    "for month in months:\n",
    "    print('month: '+month)\n",
    "    msel_ds_rad = ds_rad.sel(time = month) \n",
    "    msel_ds_cmls = ds_cmls.sel(time = month) \n",
    "    # IDW merging initialization \n",
    "    merger = mergeplg.merge.MergeDifferenceIDW(\n",
    "        ds_rad=msel_ds_rad.rainfall_amount,\n",
    "        ds_cmls=msel_ds_cmls,\n",
    "        method=\"additive\",\n",
    "        nnear=nnear,\n",
    "        range_checks={'diff_check':10},\n",
    "    )\n",
    "    # merging application (loop on timesteps)\n",
    "    for time in tqdm.tqdm(msel_ds_rad.time.data):\n",
    "        rainfall.append(\n",
    "            merger(\n",
    "                da_rad=msel_ds_rad.sel(time=time).rainfall_amount,\n",
    "                da_cmls=msel_ds_cmls.sel(time=time),\n",
    "            )\n",
    "        )\n",
    "# saving the field + removing NaNs \n",
    "data = xr.Dataset({\"rainfall_add_IDW\": xr.concat(rainfall, dim=\"time\") })\n",
    "data['rainfall_add_IDW']=xr.where(\n",
    "    np.isnan(data['rainfall_add_IDW']), 0, data['rainfall_add_IDW']\n",
    "    )\n",
    "data.to_netcdf('data/adjusted_fields/OpenMRG_rainfall_add_IDW.nc')    \n",
    "del data, merger"
   ]
  },
  {
   "cell_type": "code",
   "execution_count": 7,
   "id": "d28ab329",
   "metadata": {},
   "outputs": [
    {
     "name": "stdout",
     "output_type": "stream",
     "text": [
      "month: 2015-06\n"
     ]
    },
    {
     "name": "stderr",
     "output_type": "stream",
     "text": [
      "100%|██████████| 719/719 [00:08<00:00, 80.19it/s]\n"
     ]
    },
    {
     "name": "stdout",
     "output_type": "stream",
     "text": [
      "month: 2015-07\n"
     ]
    },
    {
     "name": "stderr",
     "output_type": "stream",
     "text": [
      "100%|██████████| 744/744 [00:09<00:00, 79.87it/s]\n"
     ]
    },
    {
     "name": "stdout",
     "output_type": "stream",
     "text": [
      "month: 2015-08\n"
     ]
    },
    {
     "name": "stderr",
     "output_type": "stream",
     "text": [
      "100%|██████████| 744/744 [00:09<00:00, 78.04it/s]\n"
     ]
    }
   ],
   "source": [
    "# multiplicative IDW\n",
    "nnear = 12 \n",
    "rainfall = []\n",
    "\n",
    "for month in months:\n",
    "    print('month: '+month)\n",
    "    msel_ds_rad = ds_rad.sel(time = month) \n",
    "    msel_ds_cmls = ds_cmls.sel(time = month) \n",
    "    # IDW merging initialization \n",
    "    merger = mergeplg.merge.MergeDifferenceIDW(\n",
    "        ds_rad=msel_ds_rad.rainfall_amount,\n",
    "        ds_cmls=msel_ds_cmls,\n",
    "        method=\"multiplicative\",\n",
    "        nnear=nnear,\n",
    "        range_checks={'ratio_check':(0.1,15)},\n",
    "    )\n",
    "    # merging application (loop on timesteps)\n",
    "    for time in tqdm.tqdm(msel_ds_rad.time.data):\n",
    "        rainfall.append(\n",
    "            merger(\n",
    "                da_rad=msel_ds_rad.sel(time=time).rainfall_amount,\n",
    "                da_cmls=msel_ds_cmls.sel(time=time),\n",
    "            )\n",
    "        )\n",
    "# saving the field + removing NaNs \n",
    "data = xr.Dataset({\"rainfall_mul_IDW\": xr.concat(rainfall, dim=\"time\") })\n",
    "data['rainfall_mul_IDW']=xr.where(\n",
    "    np.isnan(data['rainfall_mul_IDW']), 0, data['rainfall_mul_IDW']\n",
    "    )\n",
    "data.to_netcdf('data/adjusted_fields/OpenMRG_rainfall_mul_IDW.nc')    \n",
    "del data, merger"
   ]
  },
  {
   "cell_type": "code",
   "execution_count": 8,
   "id": "6d78e1e9",
   "metadata": {},
   "outputs": [
    {
     "name": "stdout",
     "output_type": "stream",
     "text": [
      "month: 2015-06\n"
     ]
    },
    {
     "name": "stderr",
     "output_type": "stream",
     "text": [
      "100%|██████████| 719/719 [00:17<00:00, 40.62it/s] \n"
     ]
    },
    {
     "name": "stdout",
     "output_type": "stream",
     "text": [
      "month: 2015-07\n"
     ]
    },
    {
     "name": "stderr",
     "output_type": "stream",
     "text": [
      "100%|██████████| 744/744 [00:21<00:00, 34.71it/s] \n"
     ]
    },
    {
     "name": "stdout",
     "output_type": "stream",
     "text": [
      "month: 2015-08\n"
     ]
    },
    {
     "name": "stderr",
     "output_type": "stream",
     "text": [
      "100%|██████████| 744/744 [00:18<00:00, 40.84it/s] \n"
     ]
    }
   ],
   "source": [
    "# additive POINT BLOCK KRIGING\n",
    "variogram_parameters = {\"sill\": 1.0, \"range\": 30000, \"nugget\": 0.1}\n",
    "nnear = 12\n",
    "rainfall = []\n",
    "\n",
    "for month in months:\n",
    "    print('month: '+month)\n",
    "    msel_ds_rad = ds_rad.sel(time = month) \n",
    "    msel_ds_cmls = ds_cmls.sel(time = month) \n",
    "    # OK merging initialization\n",
    "    merger = mergeplg.merge.MergeDifferenceOrdinaryKriging(\n",
    "        ds_rad=msel_ds_rad.rainfall_amount,\n",
    "        ds_cmls=msel_ds_cmls,\n",
    "        full_line=False,\n",
    "        variogram_parameters=variogram_parameters,\n",
    "        nnear=nnear,\n",
    "        method=\"additive\",\n",
    "        range_checks={'diff_check':10},\n",
    "    )\n",
    "    # merging application (loop on timesteps)\n",
    "    for time in tqdm.tqdm(msel_ds_rad.time.data):\n",
    "        rainfall.append(\n",
    "            merger(\n",
    "                da_rad=msel_ds_rad.sel(time=time).rainfall_amount,\n",
    "                da_cmls=msel_ds_cmls.sel(time=time),\n",
    "            )\n",
    "        )\n",
    "# saving the field + removing NaNs \n",
    "data = xr.Dataset({\"rainfall_add_pBK\": xr.concat(rainfall, dim=\"time\") })\n",
    "data['rainfall_add_pBK']=xr.where(\n",
    "    np.isnan(data['rainfall_add_pBK']), 0, data['rainfall_add_pBK']\n",
    "    )\n",
    "data.to_netcdf('data/adjusted_fields/OpenMRG_rainfall_add_pBK.nc')    \n",
    "del data, merger"
   ]
  },
  {
   "cell_type": "code",
   "execution_count": 9,
   "id": "bf492f81",
   "metadata": {},
   "outputs": [
    {
     "name": "stdout",
     "output_type": "stream",
     "text": [
      "month: 2015-06\n"
     ]
    },
    {
     "name": "stderr",
     "output_type": "stream",
     "text": [
      "100%|██████████| 719/719 [00:14<00:00, 48.58it/s] \n"
     ]
    },
    {
     "name": "stdout",
     "output_type": "stream",
     "text": [
      "month: 2015-07\n"
     ]
    },
    {
     "name": "stderr",
     "output_type": "stream",
     "text": [
      "100%|██████████| 744/744 [00:17<00:00, 41.53it/s] \n"
     ]
    },
    {
     "name": "stdout",
     "output_type": "stream",
     "text": [
      "month: 2015-08\n"
     ]
    },
    {
     "name": "stderr",
     "output_type": "stream",
     "text": [
      "100%|██████████| 744/744 [00:14<00:00, 49.82it/s] \n"
     ]
    }
   ],
   "source": [
    "# multiplicative POINT BLOCK KRIGING\n",
    "variogram_parameters = {\"sill\": 1.0, \"range\": 30000, \"nugget\": 0.1}\n",
    "nnear = 12\n",
    "rainfall = []\n",
    "\n",
    "for month in months:\n",
    "    print('month: '+month)\n",
    "    msel_ds_rad = ds_rad.sel(time = month) \n",
    "    msel_ds_cmls = ds_cmls.sel(time = month) \n",
    "    # OK merging initialization\n",
    "    merger = mergeplg.merge.MergeDifferenceOrdinaryKriging(\n",
    "        ds_rad=msel_ds_rad.rainfall_amount,\n",
    "        ds_cmls=msel_ds_cmls,\n",
    "        full_line=False,\n",
    "        variogram_parameters=variogram_parameters,\n",
    "        nnear=nnear,\n",
    "        method=\"multiplicative\",\n",
    "        range_checks={'ratio_check':(0.1,15)},\n",
    "    )\n",
    "    # merging application (loop on timesteps)\n",
    "    for time in tqdm.tqdm(msel_ds_rad.time.data):\n",
    "        rainfall.append(\n",
    "            merger(\n",
    "                da_rad=msel_ds_rad.sel(time=time).rainfall_amount,\n",
    "                da_cmls=msel_ds_cmls.sel(time=time),\n",
    "            )\n",
    "        )\n",
    "# saving the field + removing NaNs \n",
    "data = xr.Dataset({\"rainfall_mul_pBK\": xr.concat(rainfall, dim=\"time\") })\n",
    "data['rainfall_mul_pBK']=xr.where(\n",
    "    np.isnan(data['rainfall_mul_pBK']), 0, data['rainfall_mul_pBK']\n",
    "    )\n",
    "data.to_netcdf('data/adjusted_fields/OpenMRG_rainfall_mul_pBK.nc')    \n",
    "del data, merger"
   ]
  },
  {
   "cell_type": "code",
   "execution_count": 10,
   "id": "0abab7a9",
   "metadata": {},
   "outputs": [
    {
     "name": "stdout",
     "output_type": "stream",
     "text": [
      "month: 2015-06\n"
     ]
    },
    {
     "name": "stderr",
     "output_type": "stream",
     "text": [
      "100%|██████████| 719/719 [00:17<00:00, 41.80it/s] \n"
     ]
    },
    {
     "name": "stdout",
     "output_type": "stream",
     "text": [
      "month: 2015-07\n"
     ]
    },
    {
     "name": "stderr",
     "output_type": "stream",
     "text": [
      "100%|██████████| 744/744 [00:21<00:00, 35.32it/s] \n"
     ]
    },
    {
     "name": "stdout",
     "output_type": "stream",
     "text": [
      "month: 2015-08\n"
     ]
    },
    {
     "name": "stderr",
     "output_type": "stream",
     "text": [
      "100%|██████████| 744/744 [00:17<00:00, 41.37it/s] \n"
     ]
    }
   ],
   "source": [
    "# additive LINE BLOCK KRIGING\n",
    "variogram_parameters = {\"sill\": 1.0, \"range\": 30000, \"nugget\": 0.1}\n",
    "nnear = 12\n",
    "rainfall = []\n",
    "\n",
    "for month in months:\n",
    "    print('month: '+month)\n",
    "    msel_ds_rad = ds_rad.sel(time = month) \n",
    "    msel_ds_cmls = ds_cmls.sel(time = month) \n",
    "    # OK merging initialization\n",
    "    merger = mergeplg.merge.MergeDifferenceOrdinaryKriging(\n",
    "        ds_rad=msel_ds_rad.rainfall_amount,\n",
    "        ds_cmls=msel_ds_cmls,\n",
    "        full_line=True,\n",
    "        variogram_parameters=variogram_parameters,\n",
    "        nnear=nnear,\n",
    "        method=\"additive\",\n",
    "        range_checks={'diff_check':10},\n",
    "    )\n",
    "    # merging application (loop on timesteps)\n",
    "    for time in tqdm.tqdm(msel_ds_rad.time.data):\n",
    "        rainfall.append(\n",
    "            merger(\n",
    "                da_rad=msel_ds_rad.sel(time=time).rainfall_amount,\n",
    "                da_cmls=msel_ds_cmls.sel(time=time),\n",
    "            )\n",
    "        )\n",
    "# saving the field + removing NaNs \n",
    "data = xr.Dataset({\"rainfall_add_lBK\": xr.concat(rainfall, dim=\"time\") })\n",
    "data['rainfall_add_lBK']=xr.where(\n",
    "    np.isnan(data['rainfall_add_lBK']), 0, data['rainfall_add_lBK']\n",
    "    )\n",
    "data.to_netcdf('data/adjusted_fields/OpenMRG_rainfall_add_lBK.nc')    \n",
    "del data, merger"
   ]
  },
  {
   "cell_type": "code",
   "execution_count": 11,
   "id": "f85bbfe9",
   "metadata": {},
   "outputs": [
    {
     "name": "stdout",
     "output_type": "stream",
     "text": [
      "month: 2015-06\n"
     ]
    },
    {
     "name": "stderr",
     "output_type": "stream",
     "text": [
      "100%|██████████| 719/719 [00:15<00:00, 46.88it/s] \n"
     ]
    },
    {
     "name": "stdout",
     "output_type": "stream",
     "text": [
      "month: 2015-07\n"
     ]
    },
    {
     "name": "stderr",
     "output_type": "stream",
     "text": [
      "100%|██████████| 744/744 [00:18<00:00, 40.00it/s] \n"
     ]
    },
    {
     "name": "stdout",
     "output_type": "stream",
     "text": [
      "month: 2015-08\n"
     ]
    },
    {
     "name": "stderr",
     "output_type": "stream",
     "text": [
      "100%|██████████| 744/744 [00:15<00:00, 48.91it/s] \n"
     ]
    }
   ],
   "source": [
    "# multiplicative LINE BLOCK KRIGING\n",
    "variogram_parameters = {\"sill\": 1.0, \"range\": 30000, \"nugget\": 0.1}\n",
    "nnear = 12\n",
    "rainfall = []\n",
    "\n",
    "for month in months:\n",
    "    print('month: '+month)\n",
    "    msel_ds_rad = ds_rad.sel(time = month) \n",
    "    msel_ds_cmls = ds_cmls.sel(time = month) \n",
    "    # OK merging initialization\n",
    "    merger = mergeplg.merge.MergeDifferenceOrdinaryKriging(\n",
    "        ds_rad=msel_ds_rad.rainfall_amount,\n",
    "        ds_cmls=msel_ds_cmls,\n",
    "        full_line=True,\n",
    "        variogram_parameters=variogram_parameters,\n",
    "        nnear=nnear,\n",
    "        method=\"multiplicative\",\n",
    "        range_checks={'ratio_check':(0.1,15)},\n",
    "    )\n",
    "    # merging application (loop on timesteps)\n",
    "    for time in tqdm.tqdm(msel_ds_rad.time.data):\n",
    "        rainfall.append(\n",
    "            merger(\n",
    "                da_rad=msel_ds_rad.sel(time=time).rainfall_amount,\n",
    "                da_cmls=msel_ds_cmls.sel(time=time),\n",
    "            )\n",
    "        )\n",
    "# saving the field + removing NaNs \n",
    "data = xr.Dataset({\"rainfall_mul_lBK\": xr.concat(rainfall, dim=\"time\") })\n",
    "data['rainfall_mul_lBK']=xr.where(\n",
    "    np.isnan(data['rainfall_mul_lBK']), 0, data['rainfall_mul_lBK']\n",
    "    )\n",
    "data.to_netcdf('data/adjusted_fields/OpenMRG_rainfall_mul_lBK.nc')    \n",
    "del data, merger"
   ]
  },
  {
   "cell_type": "code",
   "execution_count": 11,
   "id": "943422ba",
   "metadata": {},
   "outputs": [
    {
     "name": "stdout",
     "output_type": "stream",
     "text": [
      "month: 2015-06\n"
     ]
    },
    {
     "name": "stderr",
     "output_type": "stream",
     "text": [
      "100%|██████████| 719/719 [00:18<00:00, 38.80it/s] \n"
     ]
    },
    {
     "name": "stdout",
     "output_type": "stream",
     "text": [
      "month: 2015-07\n"
     ]
    },
    {
     "name": "stderr",
     "output_type": "stream",
     "text": [
      "100%|██████████| 744/744 [00:21<00:00, 35.23it/s] \n"
     ]
    },
    {
     "name": "stdout",
     "output_type": "stream",
     "text": [
      "month: 2015-08\n"
     ]
    },
    {
     "name": "stderr",
     "output_type": "stream",
     "text": [
      "100%|██████████| 744/744 [00:17<00:00, 42.51it/s] \n"
     ]
    }
   ],
   "source": [
    "# KED point\n",
    "variogram_parameters = {\"sill\": 1.0, \"range\": 30000, \"nugget\": 0.1}\n",
    "nnear = 12\n",
    "rainfall = []\n",
    "\n",
    "for month in months:\n",
    "    print('month: '+month)\n",
    "    msel_ds_rad = ds_rad.sel(time = month) \n",
    "    msel_ds_cmls = ds_cmls.sel(time = month) \n",
    "    # OK merging initialization\n",
    "    merger = mergeplg.merge.MergeKrigingExternalDrift(\n",
    "        ds_rad=ds_rad.rainfall_amount,\n",
    "        ds_cmls=ds_cmls,\n",
    "        variogram_parameters=variogram_parameters,\n",
    "        nnear=nnear,\n",
    "        full_line=False,\n",
    "        range_checks={'diff_check':10},\n",
    "    )\n",
    "    # merging application (loop on timesteps)\n",
    "    for time in tqdm.tqdm(msel_ds_rad.time.data):\n",
    "        rainfall.append(\n",
    "            merger(\n",
    "                da_rad=msel_ds_rad.sel(time=time).rainfall_amount,\n",
    "                da_cmls=msel_ds_cmls.sel(time=time),\n",
    "            )\n",
    "        )\n",
    "# saving the field + removing NaNs \n",
    "data = xr.Dataset({\"rainfall_ked\": xr.concat(rainfall, dim=\"time\") })\n",
    "data['rainfall_ked']=xr.where(\n",
    "    np.isnan(data['rainfall_ked']), 0, data['rainfall_ked']\n",
    "    )\n",
    "data.to_netcdf('data/adjusted_fields/OpenMRG_rainfall_pked.nc')    \n",
    "del data, merger"
   ]
  },
  {
   "cell_type": "code",
   "execution_count": 12,
   "id": "9777a17d",
   "metadata": {},
   "outputs": [
    {
     "name": "stdout",
     "output_type": "stream",
     "text": [
      "month: 2015-06\n"
     ]
    },
    {
     "name": "stderr",
     "output_type": "stream",
     "text": [
      "100%|██████████| 719/719 [00:17<00:00, 40.10it/s] \n"
     ]
    },
    {
     "name": "stdout",
     "output_type": "stream",
     "text": [
      "month: 2015-07\n"
     ]
    },
    {
     "name": "stderr",
     "output_type": "stream",
     "text": [
      "100%|██████████| 744/744 [00:22<00:00, 32.77it/s] \n"
     ]
    },
    {
     "name": "stdout",
     "output_type": "stream",
     "text": [
      "month: 2015-08\n"
     ]
    },
    {
     "name": "stderr",
     "output_type": "stream",
     "text": [
      "100%|██████████| 744/744 [00:17<00:00, 41.77it/s] \n"
     ]
    }
   ],
   "source": [
    "# KED line\n",
    "variogram_parameters = {\"sill\": 1.0, \"range\": 30000, \"nugget\": 0.1}\n",
    "nnear = 12\n",
    "rainfall = []\n",
    "\n",
    "for month in months:\n",
    "    print('month: '+month)\n",
    "    msel_ds_rad = ds_rad.sel(time = month) \n",
    "    msel_ds_cmls = ds_cmls.sel(time = month) \n",
    "    # OK merging initialization\n",
    "    merger = mergeplg.merge.MergeKrigingExternalDrift(\n",
    "        ds_rad=ds_rad.rainfall_amount,\n",
    "        ds_cmls=ds_cmls,\n",
    "        variogram_parameters=variogram_parameters,\n",
    "        nnear=nnear,\n",
    "        full_line=True,\n",
    "        range_checks={'diff_check':10},\n",
    "    )\n",
    "    # merging application (loop on timesteps)\n",
    "    for time in tqdm.tqdm(msel_ds_rad.time.data):\n",
    "        rainfall.append(\n",
    "            merger(\n",
    "                da_rad=msel_ds_rad.sel(time=time).rainfall_amount,\n",
    "                da_cmls=msel_ds_cmls.sel(time=time),\n",
    "            )\n",
    "        )\n",
    "# saving the field + removing NaNs \n",
    "data = xr.Dataset({\"rainfall_ked\": xr.concat(rainfall, dim=\"time\") })\n",
    "data['rainfall_ked']=xr.where(\n",
    "    np.isnan(data['rainfall_ked']), 0, data['rainfall_ked']\n",
    "    )\n",
    "data.to_netcdf('data/adjusted_fields/OpenMRG_rainfall_lked.nc')    \n",
    "del data, merger"
   ]
  },
  {
   "cell_type": "markdown",
   "id": "648116b1",
   "metadata": {},
   "source": [
    "# OpenRainER"
   ]
  },
  {
   "cell_type": "code",
   "execution_count": 5,
   "id": "dee12b42",
   "metadata": {},
   "outputs": [],
   "source": [
    "# OpenRainER\n",
    "ds_rad = xr.open_dataset(\"data/covi_2024_OpenRainER/openrainer_radar.nc\")         \n",
    "ds_cmls = xr.open_dataset(\"data/processed_cml_OpenRainER.nc\").R_acc                     "
   ]
  },
  {
   "cell_type": "markdown",
   "id": "a13c51a3",
   "metadata": {},
   "source": [
    "# Adjust rainfall fields"
   ]
  },
  {
   "cell_type": "code",
   "execution_count": 6,
   "id": "b66d7b9c",
   "metadata": {},
   "outputs": [],
   "source": [
    "os.makedirs('data/adjusted_fields', exist_ok=True)\n",
    "months = ['2022-06', '2022-07', '2022-08']"
   ]
  },
  {
   "cell_type": "code",
   "execution_count": 15,
   "id": "48481fd7",
   "metadata": {},
   "outputs": [
    {
     "name": "stdout",
     "output_type": "stream",
     "text": [
      "month: 2022-06\n"
     ]
    },
    {
     "name": "stderr",
     "output_type": "stream",
     "text": [
      "100%|██████████| 719/719 [00:46<00:00, 15.50it/s]\n"
     ]
    },
    {
     "name": "stdout",
     "output_type": "stream",
     "text": [
      "month: 2022-07\n"
     ]
    },
    {
     "name": "stderr",
     "output_type": "stream",
     "text": [
      "100%|██████████| 744/744 [00:47<00:00, 15.74it/s]\n"
     ]
    },
    {
     "name": "stdout",
     "output_type": "stream",
     "text": [
      "month: 2022-08\n"
     ]
    },
    {
     "name": "stderr",
     "output_type": "stream",
     "text": [
      "100%|██████████| 744/744 [00:52<00:00, 14.21it/s]\n"
     ]
    }
   ],
   "source": [
    "# additive IDW\n",
    "nnear = 12 \n",
    "rainfall = []\n",
    "\n",
    "for month in months:\n",
    "    print('month: '+month)\n",
    "    msel_ds_rad = ds_rad.sel(time = month) \n",
    "    msel_ds_cmls = ds_cmls.sel(time = month) \n",
    "    # IDW merging initialization \n",
    "    merger = mergeplg.merge.MergeDifferenceIDW(\n",
    "        ds_rad=msel_ds_rad.rainfall_amount,\n",
    "        ds_cmls=msel_ds_cmls,\n",
    "        method=\"additive\",\n",
    "        nnear=nnear,\n",
    "        range_checks={'diff_check':10},\n",
    "    )\n",
    "    # merging application (loop on timesteps)\n",
    "    for time in tqdm.tqdm(msel_ds_rad.time.data):\n",
    "        rainfall.append(\n",
    "            merger(\n",
    "                da_rad=msel_ds_rad.sel(time=time).rainfall_amount,\n",
    "                da_cmls=msel_ds_cmls.sel(time=time),\n",
    "            )\n",
    "        )\n",
    "# saving the field + removing NaNs \n",
    "data = xr.Dataset({\"rainfall_add_IDW\": xr.concat(rainfall, dim=\"time\") })\n",
    "data['rainfall_add_IDW']=xr.where(\n",
    "    np.isnan(data['rainfall_add_IDW']), 0, data['rainfall_add_IDW']\n",
    "    )\n",
    "data.to_netcdf('data/adjusted_fields/OpenRainER_rainfall_add_IDW.nc')    \n",
    "del data, merger"
   ]
  },
  {
   "cell_type": "code",
   "execution_count": 17,
   "id": "5d51829b",
   "metadata": {},
   "outputs": [
    {
     "name": "stdout",
     "output_type": "stream",
     "text": [
      "month: 2022-06\n"
     ]
    },
    {
     "name": "stderr",
     "output_type": "stream",
     "text": [
      "100%|██████████| 719/719 [00:35<00:00, 20.08it/s]\n"
     ]
    },
    {
     "name": "stdout",
     "output_type": "stream",
     "text": [
      "month: 2022-07\n"
     ]
    },
    {
     "name": "stderr",
     "output_type": "stream",
     "text": [
      "100%|██████████| 744/744 [00:36<00:00, 20.63it/s]\n"
     ]
    },
    {
     "name": "stdout",
     "output_type": "stream",
     "text": [
      "month: 2022-08\n"
     ]
    },
    {
     "name": "stderr",
     "output_type": "stream",
     "text": [
      "100%|██████████| 744/744 [00:37<00:00, 19.86it/s]\n"
     ]
    }
   ],
   "source": [
    "# multiplicative IDW\n",
    "nnear = 12 \n",
    "rainfall = []\n",
    "\n",
    "for month in months:\n",
    "    print('month: '+month)\n",
    "    msel_ds_rad = ds_rad.sel(time = month) \n",
    "    msel_ds_cmls = ds_cmls.sel(time = month) \n",
    "    # IDW merging initialization \n",
    "    merger = mergeplg.merge.MergeDifferenceIDW(\n",
    "        ds_rad=msel_ds_rad.rainfall_amount,\n",
    "        ds_cmls=msel_ds_cmls,\n",
    "        method=\"multiplicative\",\n",
    "        nnear=nnear,\n",
    "        range_checks={'ratio_check':(0.1,15)},\n",
    "    )\n",
    "    # merging application (loop on timesteps)\n",
    "    for time in tqdm.tqdm(msel_ds_rad.time.data):\n",
    "        rainfall.append(\n",
    "            merger(\n",
    "                da_rad=msel_ds_rad.sel(time=time).rainfall_amount,\n",
    "                da_cmls=msel_ds_cmls.sel(time=time),\n",
    "            )\n",
    "        )\n",
    "# saving the field + removing NaNs \n",
    "data = xr.Dataset({\"rainfall_mul_IDW\": xr.concat(rainfall, dim=\"time\") })\n",
    "data['rainfall_mul_IDW']=xr.where(\n",
    "    np.isnan(data['rainfall_mul_IDW']), 0, data['rainfall_mul_IDW']\n",
    "    )\n",
    "data.to_netcdf('data/adjusted_fields/OpenRainER_rainfall_mul_IDW.nc')    \n",
    "del data, merger"
   ]
  },
  {
   "cell_type": "code",
   "execution_count": 18,
   "id": "671a6fa7",
   "metadata": {},
   "outputs": [
    {
     "name": "stdout",
     "output_type": "stream",
     "text": [
      "month: 2022-06\n"
     ]
    },
    {
     "name": "stderr",
     "output_type": "stream",
     "text": [
      "100%|██████████| 719/719 [08:28<00:00,  1.41it/s]\n"
     ]
    },
    {
     "name": "stdout",
     "output_type": "stream",
     "text": [
      "month: 2022-07\n"
     ]
    },
    {
     "name": "stderr",
     "output_type": "stream",
     "text": [
      "100%|██████████| 744/744 [02:12<00:00,  5.60it/s]\n"
     ]
    },
    {
     "name": "stdout",
     "output_type": "stream",
     "text": [
      "month: 2022-08\n"
     ]
    },
    {
     "name": "stderr",
     "output_type": "stream",
     "text": [
      "100%|██████████| 744/744 [06:28<00:00,  1.91it/s]\n"
     ]
    }
   ],
   "source": [
    "# additive POINT BLOCK KRIGING\n",
    "variogram_parameters = {\"sill\": 1.0, \"range\": 30000, \"nugget\": 0.1}\n",
    "nnear = 12\n",
    "rainfall = []\n",
    "\n",
    "for month in months:\n",
    "    print('month: '+month)\n",
    "    msel_ds_rad = ds_rad.sel(time = month) \n",
    "    msel_ds_cmls = ds_cmls.sel(time = month) \n",
    "    # OK merging initialization\n",
    "    merger = mergeplg.merge.MergeDifferenceOrdinaryKriging(\n",
    "        ds_rad=msel_ds_rad.rainfall_amount,\n",
    "        ds_cmls=msel_ds_cmls,\n",
    "        full_line=False,\n",
    "        variogram_parameters=variogram_parameters,\n",
    "        nnear=nnear,\n",
    "        method=\"additive\",\n",
    "        range_checks={'diff_check':10},\n",
    "    )\n",
    "    # merging application (loop on timesteps)\n",
    "    for time in tqdm.tqdm(msel_ds_rad.time.data):\n",
    "        rainfall.append(\n",
    "            merger(\n",
    "                da_rad=msel_ds_rad.sel(time=time).rainfall_amount,\n",
    "                da_cmls=msel_ds_cmls.sel(time=time),\n",
    "            )\n",
    "        )\n",
    "# saving the field + removing NaNs \n",
    "data = xr.Dataset({\"rainfall_add_pBK\": xr.concat(rainfall, dim=\"time\") })\n",
    "data['rainfall_add_pBK']=xr.where(\n",
    "    np.isnan(data['rainfall_add_pBK']), 0, data['rainfall_add_pBK']\n",
    "    )\n",
    "data.to_netcdf('data/adjusted_fields/OpenRainER_rainfall_add_pBK.nc')    \n",
    "del data, merger"
   ]
  },
  {
   "cell_type": "code",
   "execution_count": 19,
   "id": "f2812d63",
   "metadata": {},
   "outputs": [
    {
     "name": "stdout",
     "output_type": "stream",
     "text": [
      "month: 2022-06\n"
     ]
    },
    {
     "name": "stderr",
     "output_type": "stream",
     "text": [
      "100%|██████████| 719/719 [04:24<00:00,  2.72it/s]\n"
     ]
    },
    {
     "name": "stdout",
     "output_type": "stream",
     "text": [
      "month: 2022-07\n"
     ]
    },
    {
     "name": "stderr",
     "output_type": "stream",
     "text": [
      "100%|██████████| 744/744 [01:20<00:00,  9.28it/s] \n"
     ]
    },
    {
     "name": "stdout",
     "output_type": "stream",
     "text": [
      "month: 2022-08\n"
     ]
    },
    {
     "name": "stderr",
     "output_type": "stream",
     "text": [
      "100%|██████████| 744/744 [04:15<00:00,  2.91it/s]\n"
     ]
    }
   ],
   "source": [
    "# multiplicative POINT BLOCK KRIGING\n",
    "variogram_parameters = {\"sill\": 1.0, \"range\": 30000, \"nugget\": 0.1}\n",
    "nnear = 12\n",
    "rainfall = []\n",
    "\n",
    "for month in months:\n",
    "    print('month: '+month)\n",
    "    msel_ds_rad = ds_rad.sel(time = month) \n",
    "    msel_ds_cmls = ds_cmls.sel(time = month) \n",
    "    # OK merging initialization\n",
    "    merger = mergeplg.merge.MergeDifferenceOrdinaryKriging(\n",
    "        ds_rad=msel_ds_rad.rainfall_amount,\n",
    "        ds_cmls=msel_ds_cmls,\n",
    "        full_line=False,\n",
    "        variogram_parameters=variogram_parameters,\n",
    "        nnear=nnear,\n",
    "        method=\"multiplicative\",\n",
    "        range_checks={'ratio_check':(0.1,15)},\n",
    "    )\n",
    "    # merging application (loop on timesteps)\n",
    "    for time in tqdm.tqdm(msel_ds_rad.time.data):\n",
    "        rainfall.append(\n",
    "            merger(\n",
    "                da_rad=msel_ds_rad.sel(time=time).rainfall_amount,\n",
    "                da_cmls=msel_ds_cmls.sel(time=time),\n",
    "            )\n",
    "        )\n",
    "# saving the field + removing NaNs \n",
    "data = xr.Dataset({\"rainfall_mul_pBK\": xr.concat(rainfall, dim=\"time\") })\n",
    "data['rainfall_mul_pBK']=xr.where(\n",
    "    np.isnan(data['rainfall_mul_pBK']), 0, data['rainfall_mul_pBK']\n",
    "    )\n",
    "data.to_netcdf('data/adjusted_fields/OpenRainER_rainfall_mul_pBK.nc')    \n",
    "del data, merger"
   ]
  },
  {
   "cell_type": "code",
   "execution_count": 20,
   "id": "1fade00a",
   "metadata": {},
   "outputs": [
    {
     "name": "stdout",
     "output_type": "stream",
     "text": [
      "month: 2022-06\n"
     ]
    },
    {
     "name": "stderr",
     "output_type": "stream",
     "text": [
      "100%|██████████| 719/719 [08:06<00:00,  1.48it/s]\n"
     ]
    },
    {
     "name": "stdout",
     "output_type": "stream",
     "text": [
      "month: 2022-07\n"
     ]
    },
    {
     "name": "stderr",
     "output_type": "stream",
     "text": [
      "100%|██████████| 744/744 [02:16<00:00,  5.44it/s]\n"
     ]
    },
    {
     "name": "stdout",
     "output_type": "stream",
     "text": [
      "month: 2022-08\n"
     ]
    },
    {
     "name": "stderr",
     "output_type": "stream",
     "text": [
      "100%|██████████| 744/744 [07:51<00:00,  1.58it/s]\n"
     ]
    }
   ],
   "source": [
    "# additive LINE BLOCK KRIGING\n",
    "variogram_parameters = {\"sill\": 1.0, \"range\": 30000, \"nugget\": 0.1}\n",
    "nnear = 12\n",
    "rainfall = []\n",
    "\n",
    "for month in months:\n",
    "    print('month: '+month)\n",
    "    msel_ds_rad = ds_rad.sel(time = month) \n",
    "    msel_ds_cmls = ds_cmls.sel(time = month) \n",
    "    # OK merging initialization\n",
    "    merger = mergeplg.merge.MergeDifferenceOrdinaryKriging(\n",
    "        ds_rad=msel_ds_rad.rainfall_amount,\n",
    "        ds_cmls=msel_ds_cmls,\n",
    "        full_line=True,\n",
    "        variogram_parameters=variogram_parameters,\n",
    "        nnear=nnear,\n",
    "        method=\"additive\",\n",
    "        range_checks={'diff_check':10},\n",
    "    )\n",
    "    # merging application (loop on timesteps)\n",
    "    for time in tqdm.tqdm(msel_ds_rad.time.data):\n",
    "        rainfall.append(\n",
    "            merger(\n",
    "                da_rad=msel_ds_rad.sel(time=time).rainfall_amount,\n",
    "                da_cmls=msel_ds_cmls.sel(time=time),\n",
    "            )\n",
    "        )\n",
    "# saving the field + removing NaNs \n",
    "data = xr.Dataset({\"rainfall_add_lBK\": xr.concat(rainfall, dim=\"time\") })\n",
    "data['rainfall_add_lBK']=xr.where(\n",
    "    np.isnan(data['rainfall_add_lBK']), 0, data['rainfall_add_lBK']\n",
    "    )\n",
    "data.to_netcdf('data/adjusted_fields/OpenRainER_rainfall_add_lBK.nc')    \n",
    "del data, merger"
   ]
  },
  {
   "cell_type": "code",
   "execution_count": 21,
   "id": "c40c50f5",
   "metadata": {},
   "outputs": [
    {
     "name": "stdout",
     "output_type": "stream",
     "text": [
      "month: 2022-06\n"
     ]
    },
    {
     "name": "stderr",
     "output_type": "stream",
     "text": [
      "100%|██████████| 719/719 [04:40<00:00,  2.56it/s]\n"
     ]
    },
    {
     "name": "stdout",
     "output_type": "stream",
     "text": [
      "month: 2022-07\n"
     ]
    },
    {
     "name": "stderr",
     "output_type": "stream",
     "text": [
      "100%|██████████| 744/744 [01:30<00:00,  8.21it/s] \n"
     ]
    },
    {
     "name": "stdout",
     "output_type": "stream",
     "text": [
      "month: 2022-08\n"
     ]
    },
    {
     "name": "stderr",
     "output_type": "stream",
     "text": [
      "100%|██████████| 744/744 [04:26<00:00,  2.79it/s]\n"
     ]
    }
   ],
   "source": [
    "# multiplicative LINE BLOCK KRIGING\n",
    "variogram_parameters = {\"sill\": 1.0, \"range\": 30000, \"nugget\": 0.1}\n",
    "nnear = 12\n",
    "rainfall = []\n",
    "\n",
    "for month in months:\n",
    "    print('month: '+month)\n",
    "    msel_ds_rad = ds_rad.sel(time = month) \n",
    "    msel_ds_cmls = ds_cmls.sel(time = month) \n",
    "    # OK merging initialization\n",
    "    merger = mergeplg.merge.MergeDifferenceOrdinaryKriging(\n",
    "        ds_rad=msel_ds_rad.rainfall_amount,\n",
    "        ds_cmls=msel_ds_cmls,\n",
    "        full_line=True,\n",
    "        variogram_parameters=variogram_parameters,\n",
    "        nnear=nnear,\n",
    "        method=\"multiplicative\",\n",
    "        range_checks={'ratio_check':(0.1,15)},\n",
    "    )\n",
    "    # merging application (loop on timesteps)\n",
    "    for time in tqdm.tqdm(msel_ds_rad.time.data):\n",
    "        rainfall.append(\n",
    "            merger(\n",
    "                da_rad=msel_ds_rad.sel(time=time).rainfall_amount,\n",
    "                da_cmls=msel_ds_cmls.sel(time=time),\n",
    "            )\n",
    "        )\n",
    "# saving the field + removing NaNs \n",
    "data = xr.Dataset({\"rainfall_mul_lBK\": xr.concat(rainfall, dim=\"time\") })\n",
    "data['rainfall_mul_lBK']=xr.where(\n",
    "    np.isnan(data['rainfall_mul_lBK']), 0, data['rainfall_mul_lBK']\n",
    "    )\n",
    "data.to_netcdf('data/adjusted_fields/OpenRainER_rainfall_mul_lBK.nc')    \n",
    "del data, merger"
   ]
  },
  {
   "cell_type": "code",
   "execution_count": 7,
   "id": "7abd764d",
   "metadata": {},
   "outputs": [
    {
     "name": "stdout",
     "output_type": "stream",
     "text": [
      "month: 2022-06\n"
     ]
    },
    {
     "name": "stderr",
     "output_type": "stream",
     "text": [
      "100%|██████████| 719/719 [07:27<00:00,  1.61it/s]\n"
     ]
    },
    {
     "name": "stdout",
     "output_type": "stream",
     "text": [
      "month: 2022-07\n"
     ]
    },
    {
     "name": "stderr",
     "output_type": "stream",
     "text": [
      "100%|██████████| 744/744 [02:00<00:00,  6.20it/s]\n"
     ]
    },
    {
     "name": "stdout",
     "output_type": "stream",
     "text": [
      "month: 2022-08\n"
     ]
    },
    {
     "name": "stderr",
     "output_type": "stream",
     "text": [
      "100%|██████████| 744/744 [05:53<00:00,  2.11it/s]\n"
     ]
    }
   ],
   "source": [
    "# KED point\n",
    "variogram_parameters = {\"sill\": 1.0, \"range\": 30000, \"nugget\": 0.1}\n",
    "nnear = 12\n",
    "rainfall = []\n",
    "\n",
    "for month in months:\n",
    "    print('month: '+month)\n",
    "    msel_ds_rad = ds_rad.sel(time = month) \n",
    "    msel_ds_cmls = ds_cmls.sel(time = month) \n",
    "    # OK merging initialization\n",
    "    merger = mergeplg.merge.MergeKrigingExternalDrift(\n",
    "        ds_rad=ds_rad.rainfall_amount,\n",
    "        ds_cmls=ds_cmls,\n",
    "        variogram_parameters=variogram_parameters,\n",
    "        nnear=nnear,\n",
    "        full_line=False,\n",
    "        range_checks={'diff_check':10},\n",
    "    )\n",
    "    # merging application (loop on timesteps)\n",
    "    for time in tqdm.tqdm(msel_ds_rad.time.data):\n",
    "        rainfall.append(\n",
    "            merger(\n",
    "                da_rad=msel_ds_rad.sel(time=time).rainfall_amount,\n",
    "                da_cmls=msel_ds_cmls.sel(time=time),\n",
    "            )\n",
    "        )\n",
    "# saving the field + removing NaNs \n",
    "data = xr.Dataset({\"rainfall_ked\": xr.concat(rainfall, dim=\"time\") })\n",
    "data['rainfall_ked']=xr.where(\n",
    "    np.isnan(data['rainfall_ked']), 0, data['rainfall_ked']\n",
    "    )\n",
    "data.to_netcdf('data/adjusted_fields/OpenRainER_rainfall_pked.nc')    \n",
    "del data, merger"
   ]
  },
  {
   "cell_type": "code",
   "execution_count": 8,
   "id": "23885cb2",
   "metadata": {},
   "outputs": [
    {
     "name": "stdout",
     "output_type": "stream",
     "text": [
      "month: 2022-06\n"
     ]
    },
    {
     "name": "stderr",
     "output_type": "stream",
     "text": [
      "100%|██████████| 719/719 [07:49<00:00,  1.53it/s]\n"
     ]
    },
    {
     "name": "stdout",
     "output_type": "stream",
     "text": [
      "month: 2022-07\n"
     ]
    },
    {
     "name": "stderr",
     "output_type": "stream",
     "text": [
      "100%|██████████| 744/744 [01:50<00:00,  6.76it/s]\n"
     ]
    },
    {
     "name": "stdout",
     "output_type": "stream",
     "text": [
      "month: 2022-08\n"
     ]
    },
    {
     "name": "stderr",
     "output_type": "stream",
     "text": [
      "100%|██████████| 744/744 [05:31<00:00,  2.25it/s]\n"
     ]
    }
   ],
   "source": [
    "# KED line\n",
    "variogram_parameters = {\"sill\": 1.0, \"range\": 30000, \"nugget\": 0.1}\n",
    "nnear = 12\n",
    "rainfall = []\n",
    "\n",
    "for month in months:\n",
    "    print('month: '+month)\n",
    "    msel_ds_rad = ds_rad.sel(time = month) \n",
    "    msel_ds_cmls = ds_cmls.sel(time = month) \n",
    "    # OK merging initialization\n",
    "    merger = mergeplg.merge.MergeKrigingExternalDrift(\n",
    "        ds_rad=ds_rad.rainfall_amount,\n",
    "        ds_cmls=ds_cmls,\n",
    "        variogram_parameters=variogram_parameters,\n",
    "        nnear=nnear,\n",
    "        full_line=True,\n",
    "        range_checks={'diff_check':10},\n",
    "    )\n",
    "    # merging application (loop on timesteps)\n",
    "    for time in tqdm.tqdm(msel_ds_rad.time.data):\n",
    "        rainfall.append(\n",
    "            merger(\n",
    "                da_rad=msel_ds_rad.sel(time=time).rainfall_amount,\n",
    "                da_cmls=msel_ds_cmls.sel(time=time),\n",
    "            )\n",
    "        )\n",
    "# saving the field + removing NaNs \n",
    "data = xr.Dataset({\"rainfall_ked\": xr.concat(rainfall, dim=\"time\") })\n",
    "data['rainfall_ked']=xr.where(\n",
    "    np.isnan(data['rainfall_ked']), 0, data['rainfall_ked']\n",
    "    )\n",
    "data.to_netcdf('data/adjusted_fields/OpenRainER_rainfall_lked.nc')    \n",
    "del data, merger"
   ]
  }
 ],
 "metadata": {
  "kernelspec": {
   "display_name": "BasicEnv",
   "language": "python",
   "name": "python3"
  },
  "language_info": {
   "codemirror_mode": {
    "name": "ipython",
    "version": 3
   },
   "file_extension": ".py",
   "mimetype": "text/x-python",
   "name": "python",
   "nbconvert_exporter": "python",
   "pygments_lexer": "ipython3",
   "version": "3.12.6"
  }
 },
 "nbformat": 4,
 "nbformat_minor": 5
}
