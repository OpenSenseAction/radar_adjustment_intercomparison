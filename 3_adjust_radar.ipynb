{
 "cells": [
  {
   "cell_type": "code",
   "execution_count": 1,
   "id": "38d4b80c-ad77-44a4-ba0d-e909a301ebba",
   "metadata": {},
   "outputs": [],
   "source": [
    "%load_ext autoreload\n",
    "%autoreload 2"
   ]
  },
  {
   "cell_type": "code",
   "execution_count": 2,
   "id": "777f8206-5b77-4291-b1d1-ded55fb935ed",
   "metadata": {},
   "outputs": [],
   "source": [
    "# Standard imports\n",
    "import numpy as np\n",
    "import xarray as xr\n",
    "import tqdm as tqdm"
   ]
  },
  {
   "cell_type": "code",
   "execution_count": 3,
   "id": "d72ec74e-c774-405b-a991-40acce1d808b",
   "metadata": {},
   "outputs": [],
   "source": [
    "# Import OpenSense modules as submodules\n",
    "import sys\n",
    "import os\n",
    "\n",
    "sys.path.append(os.path.abspath(\"./pycomlink/\"))\n",
    "sys.path.append(os.path.abspath(\"./poligrain/src/\"))\n",
    "sys.path.append(os.path.abspath(\"./mergeplg/src/\"))\n",
    "\n",
    "import pycomlink as pycml \n",
    "import poligrain as plg\n",
    "import mergeplg "
   ]
  },
  {
   "cell_type": "markdown",
   "id": "b44eefd4",
   "metadata": {},
   "source": [
    "# OpenMRG"
   ]
  },
  {
   "cell_type": "code",
   "execution_count": 4,
   "id": "86523eba-9605-40f7-b2fd-9915394b5999",
   "metadata": {},
   "outputs": [],
   "source": [
    "# OpenMRG\n",
    "ds_rad = xr.open_dataset(\"data/andersson_2022_OpenMRG/radar/openmrg_rad.nc\")                    \n",
    "ds_cmls = xr.open_dataset(\"data/processed_cml_OpenMRG.nc\").R_acc                                  "
   ]
  },
  {
   "cell_type": "markdown",
   "id": "7ffe30d1-0201-4f07-9d12-838ee8a2346c",
   "metadata": {},
   "source": [
    "# Adjust rainfall fields"
   ]
  },
  {
   "cell_type": "code",
   "execution_count": 5,
   "id": "86e730c0",
   "metadata": {},
   "outputs": [],
   "source": [
    "os.makedirs('data/adjusted_fields', exist_ok=True)\n",
    "months = ['2015-06', '2015-07', '2015-08']"
   ]
  },
  {
   "cell_type": "code",
   "execution_count": 6,
   "id": "c81c344d",
   "metadata": {},
   "outputs": [
    {
     "name": "stdout",
     "output_type": "stream",
     "text": [
      "month: 2015-06\n"
     ]
    },
    {
     "name": "stderr",
     "output_type": "stream",
     "text": [
      "100%|██████████| 2879/2879 [00:46<00:00, 61.87it/s]\n"
     ]
    },
    {
     "name": "stdout",
     "output_type": "stream",
     "text": [
      "month: 2015-07\n"
     ]
    },
    {
     "name": "stderr",
     "output_type": "stream",
     "text": [
      "100%|██████████| 2976/2976 [00:46<00:00, 64.63it/s]\n"
     ]
    },
    {
     "name": "stdout",
     "output_type": "stream",
     "text": [
      "month: 2015-08\n"
     ]
    },
    {
     "name": "stderr",
     "output_type": "stream",
     "text": [
      "100%|██████████| 2976/2976 [00:45<00:00, 65.39it/s]\n"
     ]
    }
   ],
   "source": [
    "# additive IDW\n",
    "nnear = 12 \n",
    "rainfall = []\n",
    "\n",
    "for month in months:\n",
    "    print('month: '+month)\n",
    "    msel_ds_rad = ds_rad.sel(time = month) \n",
    "    msel_ds_cmls = ds_cmls.sel(time = month) \n",
    "    # IDW merging initialization \n",
    "    merger = mergeplg.merge.MergeDifferenceIDW(\n",
    "        ds_rad=msel_ds_rad.rainfall_amount,\n",
    "        ds_cmls=msel_ds_cmls,\n",
    "        method=\"additive\",\n",
    "        nnear=nnear,\n",
    "    )\n",
    "    # merging application (loop on timesteps)\n",
    "    for time in tqdm.tqdm(msel_ds_rad.time.data):\n",
    "        rainfall.append(\n",
    "            merger(\n",
    "                da_rad=msel_ds_rad.sel(time=time).rainfall_amount,\n",
    "                da_cmls=msel_ds_cmls.sel(time=time),\n",
    "            )\n",
    "        )\n",
    "# saving the field + removing NaNs \n",
    "data = xr.Dataset({\"rainfall_add_IDW\": xr.concat(rainfall, dim=\"time\") })\n",
    "data['rainfall_add_IDW']=xr.where(\n",
    "    np.isnan(data['rainfall_add_IDW']), 0, data['rainfall_add_IDW']\n",
    "    )\n",
    "data.to_netcdf('data/adjusted_fields/OpenMRG_rainfall_add_IDW.nc')    \n",
    "del data, merger"
   ]
  },
  {
   "cell_type": "code",
   "execution_count": 7,
   "id": "d28ab329",
   "metadata": {},
   "outputs": [
    {
     "name": "stdout",
     "output_type": "stream",
     "text": [
      "month: 2015-06\n"
     ]
    },
    {
     "name": "stderr",
     "output_type": "stream",
     "text": [
      "100%|██████████| 2879/2879 [00:44<00:00, 65.31it/s]\n"
     ]
    },
    {
     "name": "stdout",
     "output_type": "stream",
     "text": [
      "month: 2015-07\n"
     ]
    },
    {
     "name": "stderr",
     "output_type": "stream",
     "text": [
      "100%|██████████| 2976/2976 [00:46<00:00, 63.76it/s]\n"
     ]
    },
    {
     "name": "stdout",
     "output_type": "stream",
     "text": [
      "month: 2015-08\n"
     ]
    },
    {
     "name": "stderr",
     "output_type": "stream",
     "text": [
      "100%|██████████| 2976/2976 [00:46<00:00, 64.40it/s]\n"
     ]
    }
   ],
   "source": [
    "# multiplicative IDW\n",
    "nnear = 12 \n",
    "rainfall = []\n",
    "\n",
    "for month in months:\n",
    "    print('month: '+month)\n",
    "    msel_ds_rad = ds_rad.sel(time = month) \n",
    "    msel_ds_cmls = ds_cmls.sel(time = month) \n",
    "    # IDW merging initialization \n",
    "    merger = mergeplg.merge.MergeDifferenceIDW(\n",
    "        ds_rad=msel_ds_rad.rainfall_amount,\n",
    "        ds_cmls=msel_ds_cmls,\n",
    "        method=\"multiplicative\",\n",
    "        nnear=nnear,\n",
    "    )\n",
    "    # merging application (loop on timesteps)\n",
    "    for time in tqdm.tqdm(msel_ds_rad.time.data):\n",
    "        rainfall.append(\n",
    "            merger(\n",
    "                da_rad=msel_ds_rad.sel(time=time).rainfall_amount,\n",
    "                da_cmls=msel_ds_cmls.sel(time=time),\n",
    "            )\n",
    "        )\n",
    "# saving the field + removing NaNs \n",
    "data = xr.Dataset({\"rainfall_mul_IDW\": xr.concat(rainfall, dim=\"time\") })\n",
    "data['rainfall_mul_IDW']=xr.where(\n",
    "    np.isnan(data['rainfall_mul_IDW']), 0, data['rainfall_mul_IDW']\n",
    "    )\n",
    "data.to_netcdf('data/adjusted_fields/OpenMRG_rainfall_mul_IDW.nc')    \n",
    "del data, merger"
   ]
  },
  {
   "cell_type": "code",
   "execution_count": 8,
   "id": "6d78e1e9",
   "metadata": {},
   "outputs": [
    {
     "name": "stdout",
     "output_type": "stream",
     "text": [
      "month: 2015-06\n"
     ]
    },
    {
     "name": "stderr",
     "output_type": "stream",
     "text": [
      "100%|██████████| 2879/2879 [01:17<00:00, 37.18it/s]\n"
     ]
    },
    {
     "name": "stdout",
     "output_type": "stream",
     "text": [
      "month: 2015-07\n"
     ]
    },
    {
     "name": "stderr",
     "output_type": "stream",
     "text": [
      "100%|██████████| 2976/2976 [01:32<00:00, 32.20it/s]\n"
     ]
    },
    {
     "name": "stdout",
     "output_type": "stream",
     "text": [
      "month: 2015-08\n"
     ]
    },
    {
     "name": "stderr",
     "output_type": "stream",
     "text": [
      "100%|██████████| 2976/2976 [01:21<00:00, 36.58it/s]\n"
     ]
    }
   ],
   "source": [
    "# additive POINT BLOCK KRIGING\n",
    "variogram_parameters = {\"sill\": 0.9, \"range\": 10000, \"nugget\": 0.4}\n",
    "nnear = 12\n",
    "rainfall = []\n",
    "\n",
    "for month in months:\n",
    "    print('month: '+month)\n",
    "    msel_ds_rad = ds_rad.sel(time = month) \n",
    "    msel_ds_cmls = ds_cmls.sel(time = month) \n",
    "    # OK merging initialization\n",
    "    merger = mergeplg.merge.MergeDifferenceOrdinaryKriging(\n",
    "        ds_rad=msel_ds_rad.rainfall_amount,\n",
    "        ds_cmls=msel_ds_cmls,\n",
    "        full_line=False,\n",
    "        variogram_parameters=variogram_parameters,\n",
    "        nnear=nnear,\n",
    "        method=\"additive\",\n",
    "    )\n",
    "    # merging application (loop on timesteps)\n",
    "    for time in tqdm.tqdm(msel_ds_rad.time.data):\n",
    "        rainfall.append(\n",
    "            merger(\n",
    "                da_rad=msel_ds_rad.sel(time=time).rainfall_amount,\n",
    "                da_cmls=msel_ds_cmls.sel(time=time),\n",
    "            )\n",
    "        )\n",
    "# saving the field + removing NaNs \n",
    "data = xr.Dataset({\"rainfall_add_pBK\": xr.concat(rainfall, dim=\"time\") })\n",
    "data['rainfall_add_pBK']=xr.where(\n",
    "    np.isnan(data['rainfall_add_pBK']), 0, data['rainfall_add_pBK']\n",
    "    )\n",
    "data.to_netcdf('data/adjusted_fields/OpenMRG_rainfall_add_pBK.nc')    \n",
    "del data, merger"
   ]
  },
  {
   "cell_type": "code",
   "execution_count": 9,
   "id": "bf492f81",
   "metadata": {},
   "outputs": [
    {
     "name": "stdout",
     "output_type": "stream",
     "text": [
      "month: 2015-06\n"
     ]
    },
    {
     "name": "stderr",
     "output_type": "stream",
     "text": [
      "100%|██████████| 2879/2879 [01:12<00:00, 39.57it/s]\n"
     ]
    },
    {
     "name": "stdout",
     "output_type": "stream",
     "text": [
      "month: 2015-07\n"
     ]
    },
    {
     "name": "stderr",
     "output_type": "stream",
     "text": [
      "100%|██████████| 2976/2976 [01:22<00:00, 36.14it/s]\n"
     ]
    },
    {
     "name": "stdout",
     "output_type": "stream",
     "text": [
      "month: 2015-08\n"
     ]
    },
    {
     "name": "stderr",
     "output_type": "stream",
     "text": [
      "100%|██████████| 2976/2976 [01:13<00:00, 40.59it/s]\n"
     ]
    }
   ],
   "source": [
    "# multiplicative POINT BLOCK KRIGING\n",
    "variogram_parameters = {\"sill\": 0.9, \"range\": 10000, \"nugget\": 0.4}\n",
    "nnear = 12\n",
    "rainfall = []\n",
    "\n",
    "for month in months:\n",
    "    print('month: '+month)\n",
    "    msel_ds_rad = ds_rad.sel(time = month) \n",
    "    msel_ds_cmls = ds_cmls.sel(time = month) \n",
    "    # OK merging initialization\n",
    "    merger = mergeplg.merge.MergeDifferenceOrdinaryKriging(\n",
    "        ds_rad=msel_ds_rad.rainfall_amount,\n",
    "        ds_cmls=msel_ds_cmls,\n",
    "        full_line=False,\n",
    "        variogram_parameters=variogram_parameters,\n",
    "        nnear=nnear,\n",
    "        method=\"multiplicative\",\n",
    "    )\n",
    "    # merging application (loop on timesteps)\n",
    "    for time in tqdm.tqdm(msel_ds_rad.time.data):\n",
    "        rainfall.append(\n",
    "            merger(\n",
    "                da_rad=msel_ds_rad.sel(time=time).rainfall_amount,\n",
    "                da_cmls=msel_ds_cmls.sel(time=time),\n",
    "            )\n",
    "        )\n",
    "# saving the field + removing NaNs \n",
    "data = xr.Dataset({\"rainfall_mul_pBK\": xr.concat(rainfall, dim=\"time\") })\n",
    "data['rainfall_mul_pBK']=xr.where(\n",
    "    np.isnan(data['rainfall_mul_pBK']), 0, data['rainfall_mul_pBK']\n",
    "    )\n",
    "data.to_netcdf('data/adjusted_fields/OpenMRG_rainfall_mul_pBK.nc')    \n",
    "del data, merger"
   ]
  },
  {
   "cell_type": "code",
   "execution_count": 10,
   "id": "0abab7a9",
   "metadata": {},
   "outputs": [
    {
     "name": "stdout",
     "output_type": "stream",
     "text": [
      "month: 2015-06\n"
     ]
    },
    {
     "name": "stderr",
     "output_type": "stream",
     "text": [
      "100%|██████████| 2879/2879 [01:19<00:00, 36.35it/s]\n"
     ]
    },
    {
     "name": "stdout",
     "output_type": "stream",
     "text": [
      "month: 2015-07\n"
     ]
    },
    {
     "name": "stderr",
     "output_type": "stream",
     "text": [
      "100%|██████████| 2976/2976 [01:23<00:00, 35.73it/s]\n"
     ]
    },
    {
     "name": "stdout",
     "output_type": "stream",
     "text": [
      "month: 2015-08\n"
     ]
    },
    {
     "name": "stderr",
     "output_type": "stream",
     "text": [
      "100%|██████████| 2976/2976 [01:12<00:00, 40.87it/s]\n"
     ]
    }
   ],
   "source": [
    "# additive LINE BLOCK KRIGING\n",
    "variogram_parameters = {\"sill\": 0.9, \"range\": 10000, \"nugget\": 0.4}\n",
    "nnear = 12\n",
    "rainfall = []\n",
    "\n",
    "for month in months:\n",
    "    print('month: '+month)\n",
    "    msel_ds_rad = ds_rad.sel(time = month) \n",
    "    msel_ds_cmls = ds_cmls.sel(time = month) \n",
    "    # OK merging initialization\n",
    "    merger = mergeplg.merge.MergeDifferenceOrdinaryKriging(\n",
    "        ds_rad=msel_ds_rad.rainfall_amount,\n",
    "        ds_cmls=msel_ds_cmls,\n",
    "        full_line=True,\n",
    "        variogram_parameters=variogram_parameters,\n",
    "        nnear=nnear,\n",
    "        method=\"additive\",\n",
    "    )\n",
    "    # merging application (loop on timesteps)\n",
    "    for time in tqdm.tqdm(msel_ds_rad.time.data):\n",
    "        rainfall.append(\n",
    "            merger(\n",
    "                da_rad=msel_ds_rad.sel(time=time).rainfall_amount,\n",
    "                da_cmls=msel_ds_cmls.sel(time=time),\n",
    "            )\n",
    "        )\n",
    "# saving the field + removing NaNs \n",
    "data = xr.Dataset({\"rainfall_add_lBK\": xr.concat(rainfall, dim=\"time\") })\n",
    "data['rainfall_add_lBK']=xr.where(\n",
    "    np.isnan(data['rainfall_add_lBK']), 0, data['rainfall_add_lBK']\n",
    "    )\n",
    "data.to_netcdf('data/adjusted_fields/OpenMRG_rainfall_add_lBK.nc')    \n",
    "del data, merger"
   ]
  },
  {
   "cell_type": "code",
   "execution_count": 11,
   "id": "f85bbfe9",
   "metadata": {},
   "outputs": [
    {
     "name": "stdout",
     "output_type": "stream",
     "text": [
      "month: 2015-06\n"
     ]
    },
    {
     "name": "stderr",
     "output_type": "stream",
     "text": [
      "100%|██████████| 2879/2879 [01:06<00:00, 43.60it/s]\n"
     ]
    },
    {
     "name": "stdout",
     "output_type": "stream",
     "text": [
      "month: 2015-07\n"
     ]
    },
    {
     "name": "stderr",
     "output_type": "stream",
     "text": [
      "100%|██████████| 2976/2976 [01:24<00:00, 35.15it/s]\n"
     ]
    },
    {
     "name": "stdout",
     "output_type": "stream",
     "text": [
      "month: 2015-08\n"
     ]
    },
    {
     "name": "stderr",
     "output_type": "stream",
     "text": [
      "100%|██████████| 2976/2976 [01:16<00:00, 38.77it/s]\n"
     ]
    }
   ],
   "source": [
    "# multiplicative LINE BLOCK KRIGING\n",
    "variogram_parameters = {\"sill\": 0.9, \"range\": 10000, \"nugget\": 0.4}\n",
    "nnear = 12\n",
    "rainfall = []\n",
    "\n",
    "for month in months:\n",
    "    print('month: '+month)\n",
    "    msel_ds_rad = ds_rad.sel(time = month) \n",
    "    msel_ds_cmls = ds_cmls.sel(time = month) \n",
    "    # OK merging initialization\n",
    "    merger = mergeplg.merge.MergeDifferenceOrdinaryKriging(\n",
    "        ds_rad=msel_ds_rad.rainfall_amount,\n",
    "        ds_cmls=msel_ds_cmls,\n",
    "        full_line=True,\n",
    "        variogram_parameters=variogram_parameters,\n",
    "        nnear=nnear,\n",
    "        method=\"multiplicative\",\n",
    "    )\n",
    "    # merging application (loop on timesteps)\n",
    "    for time in tqdm.tqdm(msel_ds_rad.time.data):\n",
    "        rainfall.append(\n",
    "            merger(\n",
    "                da_rad=msel_ds_rad.sel(time=time).rainfall_amount,\n",
    "                da_cmls=msel_ds_cmls.sel(time=time),\n",
    "            )\n",
    "        )\n",
    "# saving the field + removing NaNs \n",
    "data = xr.Dataset({\"rainfall_mul_lBK\": xr.concat(rainfall, dim=\"time\") })\n",
    "data['rainfall_mul_lBK']=xr.where(\n",
    "    np.isnan(data['rainfall_mul_lBK']), 0, data['rainfall_mul_lBK']\n",
    "    )\n",
    "data.to_netcdf('data/adjusted_fields/OpenMRG_rainfall_mul_lBK.nc')    \n",
    "del data, merger"
   ]
  },
  {
   "cell_type": "code",
   "execution_count": 12,
   "id": "943422ba",
   "metadata": {},
   "outputs": [
    {
     "name": "stdout",
     "output_type": "stream",
     "text": [
      "month: 2015-06\n"
     ]
    },
    {
     "name": "stderr",
     "output_type": "stream",
     "text": [
      "100%|██████████| 2879/2879 [01:15<00:00, 38.22it/s]\n"
     ]
    },
    {
     "name": "stdout",
     "output_type": "stream",
     "text": [
      "month: 2015-07\n"
     ]
    },
    {
     "name": "stderr",
     "output_type": "stream",
     "text": [
      "100%|██████████| 2976/2976 [01:31<00:00, 32.68it/s]\n"
     ]
    },
    {
     "name": "stdout",
     "output_type": "stream",
     "text": [
      "month: 2015-08\n"
     ]
    },
    {
     "name": "stderr",
     "output_type": "stream",
     "text": [
      "100%|██████████| 2976/2976 [01:15<00:00, 39.63it/s]\n"
     ]
    }
   ],
   "source": [
    "# KED\n",
    "variogram_parameters = {\"sill\": 0.9, \"range\": 10000, \"nugget\": 0.4}\n",
    "nnear = 12\n",
    "rainfall = []\n",
    "\n",
    "for month in months:\n",
    "    print('month: '+month)\n",
    "    msel_ds_rad = ds_rad.sel(time = month) \n",
    "    msel_ds_cmls = ds_cmls.sel(time = month) \n",
    "    # OK merging initialization\n",
    "    merger = mergeplg.merge.MergeKrigingExternalDrift(\n",
    "        ds_rad=ds_rad.rainfall_amount,\n",
    "        ds_cmls=ds_cmls,\n",
    "        variogram_parameters=variogram_parameters,\n",
    "        nnear=nnear,\n",
    "    )\n",
    "    # merging application (loop on timesteps)\n",
    "    for time in tqdm.tqdm(msel_ds_rad.time.data):\n",
    "        rainfall.append(\n",
    "            merger(\n",
    "                da_rad=msel_ds_rad.sel(time=time).rainfall_amount,\n",
    "                da_cmls=msel_ds_cmls.sel(time=time),\n",
    "            )\n",
    "        )\n",
    "# saving the field + removing NaNs \n",
    "data = xr.Dataset({\"rainfall_ked\": xr.concat(rainfall, dim=\"time\") })\n",
    "data['rainfall_ked']=xr.where(\n",
    "    np.isnan(data['rainfall_ked']), 0, data['rainfall_ked']\n",
    "    )\n",
    "data.to_netcdf('data/adjusted_fields/OpenMRG_rainfall_ked.nc')    \n",
    "del data, merger"
   ]
  },
  {
   "cell_type": "markdown",
   "id": "648116b1",
   "metadata": {},
   "source": [
    "# OpenRainER"
   ]
  },
  {
   "cell_type": "code",
   "execution_count": 4,
   "id": "dee12b42",
   "metadata": {},
   "outputs": [],
   "source": [
    "# OpenRainER\n",
    "ds_rad = xr.open_dataset(\"data/covi_2024_OpenRainER/openrainer_radar.nc\")         \n",
    "ds_cmls = xr.open_dataset(\"data/processed_cml_OpenRainER.nc\").R_acc                     "
   ]
  },
  {
   "cell_type": "markdown",
   "id": "a13c51a3",
   "metadata": {},
   "source": [
    "# Adjust rainfall fields"
   ]
  },
  {
   "cell_type": "code",
   "execution_count": 5,
   "id": "b66d7b9c",
   "metadata": {},
   "outputs": [],
   "source": [
    "os.makedirs('data/adjusted_fields', exist_ok=True)\n",
    "months = ['2022-06', '2022-07', '2022-08']"
   ]
  },
  {
   "cell_type": "code",
   "execution_count": 15,
   "id": "48481fd7",
   "metadata": {},
   "outputs": [
    {
     "name": "stdout",
     "output_type": "stream",
     "text": [
      "month: 2022-06\n"
     ]
    },
    {
     "name": "stderr",
     "output_type": "stream",
     "text": [
      "100%|██████████| 2880/2880 [02:55<00:00, 16.38it/s]\n"
     ]
    },
    {
     "name": "stdout",
     "output_type": "stream",
     "text": [
      "month: 2022-07\n"
     ]
    },
    {
     "name": "stderr",
     "output_type": "stream",
     "text": [
      "100%|██████████| 2976/2976 [03:05<00:00, 16.05it/s]\n"
     ]
    },
    {
     "name": "stdout",
     "output_type": "stream",
     "text": [
      "month: 2022-08\n"
     ]
    },
    {
     "name": "stderr",
     "output_type": "stream",
     "text": [
      "100%|██████████| 2976/2976 [03:16<00:00, 15.16it/s]\n"
     ]
    }
   ],
   "source": [
    "# additive IDW\n",
    "nnear = 12 \n",
    "rainfall = []\n",
    "\n",
    "for month in months:\n",
    "    print('month: '+month)\n",
    "    msel_ds_rad = ds_rad.sel(time = month) \n",
    "    msel_ds_cmls = ds_cmls.sel(time = month) \n",
    "    # IDW merging initialization \n",
    "    merger = mergeplg.merge.MergeDifferenceIDW(\n",
    "        ds_rad=msel_ds_rad.rainfall_amount,\n",
    "        ds_cmls=msel_ds_cmls,\n",
    "        method=\"additive\",\n",
    "        nnear=nnear,\n",
    "    )\n",
    "    # merging application (loop on timesteps)\n",
    "    for time in tqdm.tqdm(msel_ds_rad.time.data):\n",
    "        rainfall.append(\n",
    "            merger(\n",
    "                da_rad=msel_ds_rad.sel(time=time).rainfall_amount,\n",
    "                da_cmls=msel_ds_cmls.sel(time=time),\n",
    "            )\n",
    "        )\n",
    "# saving the field + removing NaNs \n",
    "data = xr.Dataset({\"rainfall_add_IDW\": xr.concat(rainfall, dim=\"time\") })\n",
    "data['rainfall_add_IDW']=xr.where(\n",
    "    np.isnan(data['rainfall_add_IDW']), 0, data['rainfall_add_IDW']\n",
    "    )\n",
    "data.to_netcdf('data/adjusted_fields/OpenRainER_rainfall_add_IDW.nc')    \n",
    "del data, merger"
   ]
  },
  {
   "cell_type": "code",
   "execution_count": 6,
   "id": "ca309461",
   "metadata": {},
   "outputs": [
    {
     "name": "stdout",
     "output_type": "stream",
     "text": [
      "month: 2022-06\n"
     ]
    },
    {
     "name": "stderr",
     "output_type": "stream",
     "text": [
      "100%|██████████| 2880/2880 [02:25<00:00, 19.76it/s]\n"
     ]
    },
    {
     "name": "stdout",
     "output_type": "stream",
     "text": [
      "month: 2022-07\n"
     ]
    },
    {
     "name": "stderr",
     "output_type": "stream",
     "text": [
      "100%|██████████| 2976/2976 [02:39<00:00, 18.70it/s]\n"
     ]
    },
    {
     "name": "stdout",
     "output_type": "stream",
     "text": [
      "month: 2022-08\n"
     ]
    },
    {
     "name": "stderr",
     "output_type": "stream",
     "text": [
      "100%|██████████| 2976/2976 [02:56<00:00, 16.86it/s]\n"
     ]
    }
   ],
   "source": [
    "# multiplicative IDW\n",
    "nnear = 12 \n",
    "rainfall = []\n",
    "\n",
    "for month in months:\n",
    "    print('month: '+month)\n",
    "    msel_ds_rad = ds_rad.sel(time = month) \n",
    "    msel_ds_cmls = ds_cmls.sel(time = month) \n",
    "    # IDW merging initialization \n",
    "    merger = mergeplg.merge.MergeDifferenceIDW(\n",
    "        ds_rad=msel_ds_rad.rainfall_amount,\n",
    "        ds_cmls=msel_ds_cmls,\n",
    "        method=\"multiplicative\",\n",
    "        nnear=nnear,\n",
    "        multiplicative_factors=(0.1, 2),\n",
    "    )\n",
    "    # merging application (loop on timesteps)\n",
    "    for time in tqdm.tqdm(msel_ds_rad.time.data):\n",
    "        rainfall.append(\n",
    "            merger(\n",
    "                da_rad=msel_ds_rad.sel(time=time).rainfall_amount,\n",
    "                da_cmls=msel_ds_cmls.sel(time=time),\n",
    "            )\n",
    "        )\n",
    "# saving the field + removing NaNs \n",
    "data = xr.Dataset({\"rainfall_mul_IDW\": xr.concat(rainfall, dim=\"time\") })\n",
    "data['rainfall_mul_IDW']=xr.where(\n",
    "    np.isnan(data['rainfall_mul_IDW']), 0, data['rainfall_mul_IDW']\n",
    "    )\n",
    "data.to_netcdf('data/adjusted_fields/OpenRainER_rainfall_mul_IDW.nc')    \n",
    "del data, merger"
   ]
  },
  {
   "cell_type": "code",
   "execution_count": 17,
   "id": "671a6fa7",
   "metadata": {},
   "outputs": [
    {
     "name": "stdout",
     "output_type": "stream",
     "text": [
      "month: 2022-06\n"
     ]
    },
    {
     "name": "stderr",
     "output_type": "stream",
     "text": [
      "100%|██████████| 2880/2880 [23:56<00:00,  2.00it/s] \n"
     ]
    },
    {
     "name": "stdout",
     "output_type": "stream",
     "text": [
      "month: 2022-07\n"
     ]
    },
    {
     "name": "stderr",
     "output_type": "stream",
     "text": [
      "100%|██████████| 2976/2976 [07:42<00:00,  6.44it/s]\n"
     ]
    },
    {
     "name": "stdout",
     "output_type": "stream",
     "text": [
      "month: 2022-08\n"
     ]
    },
    {
     "name": "stderr",
     "output_type": "stream",
     "text": [
      "100%|██████████| 2976/2976 [19:03<00:00,  2.60it/s] \n"
     ]
    }
   ],
   "source": [
    "# additive POINT BLOCK KRIGING\n",
    "variogram_parameters = {\"sill\": 0.9, \"range\": 10000, \"nugget\": 0.4}\n",
    "nnear = 12\n",
    "rainfall = []\n",
    "\n",
    "for month in months:\n",
    "    print('month: '+month)\n",
    "    msel_ds_rad = ds_rad.sel(time = month) \n",
    "    msel_ds_cmls = ds_cmls.sel(time = month) \n",
    "    # OK merging initialization\n",
    "    merger = mergeplg.merge.MergeDifferenceOrdinaryKriging(\n",
    "        ds_rad=msel_ds_rad.rainfall_amount,\n",
    "        ds_cmls=msel_ds_cmls,\n",
    "        full_line=False,\n",
    "        variogram_parameters=variogram_parameters,\n",
    "        nnear=nnear,\n",
    "        method=\"additive\",\n",
    "    )\n",
    "    # merging application (loop on timesteps)\n",
    "    for time in tqdm.tqdm(msel_ds_rad.time.data):\n",
    "        rainfall.append(\n",
    "            merger(\n",
    "                da_rad=msel_ds_rad.sel(time=time).rainfall_amount,\n",
    "                da_cmls=msel_ds_cmls.sel(time=time),\n",
    "            )\n",
    "        )\n",
    "# saving the field + removing NaNs \n",
    "data = xr.Dataset({\"rainfall_add_pBK\": xr.concat(rainfall, dim=\"time\") })\n",
    "data['rainfall_add_pBK']=xr.where(\n",
    "    np.isnan(data['rainfall_add_pBK']), 0, data['rainfall_add_pBK']\n",
    "    )\n",
    "data.to_netcdf('data/adjusted_fields/OpenRainER_rainfall_add_pBK.nc')    \n",
    "del data, merger"
   ]
  },
  {
   "cell_type": "code",
   "execution_count": 18,
   "id": "f2812d63",
   "metadata": {},
   "outputs": [
    {
     "name": "stdout",
     "output_type": "stream",
     "text": [
      "month: 2022-06\n"
     ]
    },
    {
     "name": "stderr",
     "output_type": "stream",
     "text": [
      "100%|██████████| 2880/2880 [14:11<00:00,  3.38it/s] \n"
     ]
    },
    {
     "name": "stdout",
     "output_type": "stream",
     "text": [
      "month: 2022-07\n"
     ]
    },
    {
     "name": "stderr",
     "output_type": "stream",
     "text": [
      "100%|██████████| 2976/2976 [05:49<00:00,  8.51it/s]\n"
     ]
    },
    {
     "name": "stdout",
     "output_type": "stream",
     "text": [
      "month: 2022-08\n"
     ]
    },
    {
     "name": "stderr",
     "output_type": "stream",
     "text": [
      "100%|██████████| 2976/2976 [13:59<00:00,  3.54it/s]\n"
     ]
    }
   ],
   "source": [
    "# multiplicative POINT BLOCK KRIGING\n",
    "variogram_parameters = {\"sill\": 0.9, \"range\": 10000, \"nugget\": 0.4}\n",
    "nnear = 12\n",
    "rainfall = []\n",
    "\n",
    "for month in months:\n",
    "    print('month: '+month)\n",
    "    msel_ds_rad = ds_rad.sel(time = month) \n",
    "    msel_ds_cmls = ds_cmls.sel(time = month) \n",
    "    # OK merging initialization\n",
    "    merger = mergeplg.merge.MergeDifferenceOrdinaryKriging(\n",
    "        ds_rad=msel_ds_rad.rainfall_amount,\n",
    "        ds_cmls=msel_ds_cmls,\n",
    "        full_line=False,\n",
    "        variogram_parameters=variogram_parameters,\n",
    "        nnear=nnear,\n",
    "        method=\"multiplicative\",\n",
    "    )\n",
    "    # merging application (loop on timesteps)\n",
    "    for time in tqdm.tqdm(msel_ds_rad.time.data):\n",
    "        rainfall.append(\n",
    "            merger(\n",
    "                da_rad=msel_ds_rad.sel(time=time).rainfall_amount,\n",
    "                da_cmls=msel_ds_cmls.sel(time=time),\n",
    "            )\n",
    "        )\n",
    "# saving the field + removing NaNs \n",
    "data = xr.Dataset({\"rainfall_mul_pBK\": xr.concat(rainfall, dim=\"time\") })\n",
    "data['rainfall_mul_pBK']=xr.where(\n",
    "    np.isnan(data['rainfall_mul_pBK']), 0, data['rainfall_mul_pBK']\n",
    "    )\n",
    "data.to_netcdf('data/adjusted_fields/OpenRainER_rainfall_mul_pBK.nc')    \n",
    "del data, merger"
   ]
  },
  {
   "cell_type": "code",
   "execution_count": 19,
   "id": "1fade00a",
   "metadata": {},
   "outputs": [
    {
     "name": "stdout",
     "output_type": "stream",
     "text": [
      "month: 2022-06\n"
     ]
    },
    {
     "name": "stderr",
     "output_type": "stream",
     "text": [
      "100%|██████████| 2880/2880 [23:53<00:00,  2.01it/s] \n"
     ]
    },
    {
     "name": "stdout",
     "output_type": "stream",
     "text": [
      "month: 2022-07\n"
     ]
    },
    {
     "name": "stderr",
     "output_type": "stream",
     "text": [
      "100%|██████████| 2976/2976 [07:37<00:00,  6.50it/s]\n"
     ]
    },
    {
     "name": "stdout",
     "output_type": "stream",
     "text": [
      "month: 2022-08\n"
     ]
    },
    {
     "name": "stderr",
     "output_type": "stream",
     "text": [
      "100%|██████████| 2976/2976 [19:23<00:00,  2.56it/s]\n"
     ]
    }
   ],
   "source": [
    "# additive LINE BLOCK KRIGING\n",
    "variogram_parameters = {\"sill\": 0.9, \"range\": 10000, \"nugget\": 0.4}\n",
    "nnear = 12\n",
    "rainfall = []\n",
    "\n",
    "for month in months:\n",
    "    print('month: '+month)\n",
    "    msel_ds_rad = ds_rad.sel(time = month) \n",
    "    msel_ds_cmls = ds_cmls.sel(time = month) \n",
    "    # OK merging initialization\n",
    "    merger = mergeplg.merge.MergeDifferenceOrdinaryKriging(\n",
    "        ds_rad=msel_ds_rad.rainfall_amount,\n",
    "        ds_cmls=msel_ds_cmls,\n",
    "        full_line=True,\n",
    "        variogram_parameters=variogram_parameters,\n",
    "        nnear=nnear,\n",
    "        method=\"additive\",\n",
    "    )\n",
    "    # merging application (loop on timesteps)\n",
    "    for time in tqdm.tqdm(msel_ds_rad.time.data):\n",
    "        rainfall.append(\n",
    "            merger(\n",
    "                da_rad=msel_ds_rad.sel(time=time).rainfall_amount,\n",
    "                da_cmls=msel_ds_cmls.sel(time=time),\n",
    "            )\n",
    "        )\n",
    "# saving the field + removing NaNs \n",
    "data = xr.Dataset({\"rainfall_add_lBK\": xr.concat(rainfall, dim=\"time\") })\n",
    "data['rainfall_add_lBK']=xr.where(\n",
    "    np.isnan(data['rainfall_add_lBK']), 0, data['rainfall_add_lBK']\n",
    "    )\n",
    "data.to_netcdf('data/adjusted_fields/OpenRainER_rainfall_add_lBK.nc')    \n",
    "del data, merger"
   ]
  },
  {
   "cell_type": "code",
   "execution_count": 20,
   "id": "c40c50f5",
   "metadata": {},
   "outputs": [
    {
     "name": "stdout",
     "output_type": "stream",
     "text": [
      "month: 2022-06\n"
     ]
    },
    {
     "name": "stderr",
     "output_type": "stream",
     "text": [
      "100%|██████████| 2880/2880 [14:15<00:00,  3.37it/s] \n"
     ]
    },
    {
     "name": "stdout",
     "output_type": "stream",
     "text": [
      "month: 2022-07\n"
     ]
    },
    {
     "name": "stderr",
     "output_type": "stream",
     "text": [
      "100%|██████████| 2976/2976 [05:29<00:00,  9.04it/s]\n"
     ]
    },
    {
     "name": "stdout",
     "output_type": "stream",
     "text": [
      "month: 2022-08\n"
     ]
    },
    {
     "name": "stderr",
     "output_type": "stream",
     "text": [
      "100%|██████████| 2976/2976 [14:01<00:00,  3.54it/s]\n"
     ]
    }
   ],
   "source": [
    "# multiplicative LINE BLOCK KRIGING\n",
    "variogram_parameters = {\"sill\": 0.9, \"range\": 10000, \"nugget\": 0.4}\n",
    "nnear = 12\n",
    "rainfall = []\n",
    "\n",
    "for month in months:\n",
    "    print('month: '+month)\n",
    "    msel_ds_rad = ds_rad.sel(time = month) \n",
    "    msel_ds_cmls = ds_cmls.sel(time = month) \n",
    "    # OK merging initialization\n",
    "    merger = mergeplg.merge.MergeDifferenceOrdinaryKriging(\n",
    "        ds_rad=msel_ds_rad.rainfall_amount,\n",
    "        ds_cmls=msel_ds_cmls,\n",
    "        full_line=True,\n",
    "        variogram_parameters=variogram_parameters,\n",
    "        nnear=nnear,\n",
    "        method=\"multiplicative\",\n",
    "    )\n",
    "    # merging application (loop on timesteps)\n",
    "    for time in tqdm.tqdm(msel_ds_rad.time.data):\n",
    "        rainfall.append(\n",
    "            merger(\n",
    "                da_rad=msel_ds_rad.sel(time=time).rainfall_amount,\n",
    "                da_cmls=msel_ds_cmls.sel(time=time),\n",
    "            )\n",
    "        )\n",
    "# saving the field + removing NaNs \n",
    "data = xr.Dataset({\"rainfall_mul_lBK\": xr.concat(rainfall, dim=\"time\") })\n",
    "data['rainfall_mul_lBK']=xr.where(\n",
    "    np.isnan(data['rainfall_mul_lBK']), 0, data['rainfall_mul_lBK']\n",
    "    )\n",
    "data.to_netcdf('data/adjusted_fields/OpenRainER_rainfall_mul_lBK.nc')    \n",
    "del data, merger"
   ]
  },
  {
   "cell_type": "code",
   "execution_count": 21,
   "id": "7abd764d",
   "metadata": {},
   "outputs": [
    {
     "name": "stdout",
     "output_type": "stream",
     "text": [
      "month: 2022-06\n"
     ]
    },
    {
     "name": "stderr",
     "output_type": "stream",
     "text": [
      "100%|██████████| 2880/2880 [20:50<00:00,  2.30it/s] \n"
     ]
    },
    {
     "name": "stdout",
     "output_type": "stream",
     "text": [
      "month: 2022-07\n"
     ]
    },
    {
     "name": "stderr",
     "output_type": "stream",
     "text": [
      "100%|██████████| 2976/2976 [04:55<00:00, 10.06it/s] \n"
     ]
    },
    {
     "name": "stdout",
     "output_type": "stream",
     "text": [
      "month: 2022-08\n"
     ]
    },
    {
     "name": "stderr",
     "output_type": "stream",
     "text": [
      "100%|██████████| 2976/2976 [16:13<00:00,  3.06it/s] \n"
     ]
    }
   ],
   "source": [
    "# KED\n",
    "variogram_parameters = {\"sill\": 0.9, \"range\": 10000, \"nugget\": 0.4}\n",
    "nnear = 12\n",
    "rainfall = []\n",
    "\n",
    "for month in months:\n",
    "    print('month: '+month)\n",
    "    msel_ds_rad = ds_rad.sel(time = month) \n",
    "    msel_ds_cmls = ds_cmls.sel(time = month) \n",
    "    # OK merging initialization\n",
    "    merger = mergeplg.merge.MergeKrigingExternalDrift(\n",
    "        ds_rad=ds_rad.rainfall_amount,\n",
    "        ds_cmls=ds_cmls,\n",
    "        variogram_parameters=variogram_parameters,\n",
    "        nnear=nnear,\n",
    "    )\n",
    "    # merging application (loop on timesteps)\n",
    "    for time in tqdm.tqdm(msel_ds_rad.time.data):\n",
    "        rainfall.append(\n",
    "            merger(\n",
    "                da_rad=msel_ds_rad.sel(time=time).rainfall_amount,\n",
    "                da_cmls=msel_ds_cmls.sel(time=time),\n",
    "            )\n",
    "        )\n",
    "# saving the field + removing NaNs \n",
    "data = xr.Dataset({\"rainfall_ked\": xr.concat(rainfall, dim=\"time\") })\n",
    "data['rainfall_ked']=xr.where(\n",
    "    np.isnan(data['rainfall_ked']), 0, data['rainfall_ked']\n",
    "    )\n",
    "data.to_netcdf('data/adjusted_fields/OpenRainER_rainfall_ked.nc')    \n",
    "del data, merger"
   ]
  }
 ],
 "metadata": {
  "kernelspec": {
   "display_name": "BasicEnv",
   "language": "python",
   "name": "python3"
  },
  "language_info": {
   "codemirror_mode": {
    "name": "ipython",
    "version": 3
   },
   "file_extension": ".py",
   "mimetype": "text/x-python",
   "name": "python",
   "nbconvert_exporter": "python",
   "pygments_lexer": "ipython3",
   "version": "3.12.6"
  }
 },
 "nbformat": 4,
 "nbformat_minor": 5
}
