{
 "cells": [
  {
   "cell_type": "markdown",
   "id": "9e8629e9-a534-43b1-b0a2-6d6f0a6df943",
   "metadata": {},
   "source": [
    "# 1. Data preparation\n",
    "This notebook \n",
    "* downloads the used CML datasets [OpenMRG (Andersson et al. 2022)]() and [OpenRainER (Covi&Roversi 2023)](https://zenodo.org/records/10610886)\n",
    "* transform the into a common data format  \n",
    "* compute radar along cml"
   ]
  },
  {
   "cell_type": "code",
   "execution_count": 1,
   "id": "f583a92c-71da-43c8-8238-34d9ebe4ff31",
   "metadata": {},
   "outputs": [],
   "source": [
    "import xarray as xr\n",
    "import matplotlib.pyplot as plt\n",
    "from tqdm import tqdm\n",
    "import numpy as np\n",
    "import glob as glob\n",
    "import pandas as pd\n",
    "import pyproj\n",
    "import gzip, tarfile\n",
    "import zipfile\n",
    "import shutil\n",
    "import os"
   ]
  },
  {
   "cell_type": "code",
   "execution_count": 2,
   "id": "ad177943-e246-44a6-91be-9184aa22b612",
   "metadata": {},
   "outputs": [],
   "source": [
    "# Import OpenSense modules as submodules\n",
    "import sys\n",
    "import os\n",
    "\n",
    "sys.path.append(os.path.abspath(\"./pycomlink/\"))\n",
    "sys.path.append(os.path.abspath(\"./poligrain/src/\"))\n",
    "sys.path.append(os.path.abspath(\"./mergeplg/src/\"))\n",
    "sys.path.append(os.path.abspath(\"./OPENSENSE_sandbox/notebooks/\"))\n",
    "\n",
    "import pycomlink as pycml \n",
    "import poligrain as plg\n",
    "import mergeplg\n",
    "import opensense_data_downloader_and_transformer as oddt"
   ]
  },
  {
   "cell_type": "markdown",
   "id": "9d049ea2-4b5a-4a91-b44c-ffc7d234649c",
   "metadata": {},
   "source": [
    "## 1.1 OpenMRG"
   ]
  },
  {
   "cell_type": "markdown",
   "id": "3ad81ae9-0dee-452c-9270-2dd0a0f42f3a",
   "metadata": {},
   "source": [
    "#### Download OpenMRG dataset with code from [OpenSense sandbox](link) and transform to the data format standards given in [Fencl et al. 2023](https://open-research-europe.ec.europa.eu/articles/3-169)."
   ]
  },
  {
   "cell_type": "code",
   "execution_count": 3,
   "id": "67d6362e-0b53-4e1f-96bc-969599e4fa5e",
   "metadata": {},
   "outputs": [
    {
     "name": "stdout",
     "output_type": "stream",
     "text": [
      "File already exists at desired location data/andersson_2022_OpenMRG/OpenMRG.zip\n",
      "Not downloading!\n"
     ]
    }
   ],
   "source": [
    "# function from OpenSense sandbox \n",
    "oddt.download_andersson_2022_OpenMRG(\n",
    "    local_path=\"data/andersson_2022_OpenMRG/\", print_output=True\n",
    ")"
   ]
  },
  {
   "cell_type": "code",
   "execution_count": 4,
   "id": "f4fb616f-877c-4f98-9f82-76071796daf5",
   "metadata": {},
   "outputs": [
    {
     "name": "stderr",
     "output_type": "stream",
     "text": [
      "c:\\Users\\Utente\\Documents\\radar_adjustment_intercomparison\\OPENSENSE_sandbox\\notebooks\\opensense_data_downloader_and_transformer.py:302: FutureWarning: the `pandas.MultiIndex` object(s) passed as 'sublink' coordinate(s) or data variable(s) will no longer be implicitly promoted and wrapped into multiple indexed coordinates in the future (i.e., one coordinate for each multi-index level + one dimension coordinate). If you want to keep this behavior, you need to first wrap it explicitly using `mindex_coords = xarray.Coordinates.from_pandas_multiindex(mindex_obj, 'dim')` and pass it as coordinates, e.g., `xarray.Dataset(coords=mindex_coords)`, `dataset.assign_coords(mindex_coords)` or `dataarray.assign_coords(mindex_coords)`.\n",
      "  ds_multindex = ds.assign_coords({'sublink':df_metadata.index})\n",
      "c:\\Users\\Utente\\Documents\\radar_adjustment_intercomparison\\OPENSENSE_sandbox\\notebooks\\opensense_data_downloader_and_transformer.py:302: FutureWarning: the `pandas.MultiIndex` object(s) passed as 'sublink' coordinate(s) or data variable(s) will no longer be implicitly promoted and wrapped into multiple indexed coordinates in the future (i.e., one coordinate for each multi-index level + one dimension coordinate). If you want to keep this behavior, you need to first wrap it explicitly using `mindex_coords = xarray.Coordinates.from_pandas_multiindex(mindex_obj, 'dim')` and pass it as coordinates, e.g., `xarray.Dataset(coords=mindex_coords)`, `dataset.assign_coords(mindex_coords)` or `dataarray.assign_coords(mindex_coords)`.\n",
      "  ds_multindex = ds.assign_coords({'sublink':df_metadata.index})\n"
     ]
    }
   ],
   "source": [
    "# read data in 2 chunks, to save computer memory\n",
    "ds_cml1 = oddt.transform_andersson_2022_OpenMRG(\n",
    "    fn=\"data/andersson_2022_OpenMRG/OpenMRG.zip\",\n",
    "    path_to_extract_to=\"data/andersson_2022_OpenMRG/\",\n",
    "    time_start_end=(\n",
    "        \"2015-06-01\",\n",
    "        \"2015-07-25T00:00\",\n",
    "    ),  \n",
    "    restructure_data=True,\n",
    ").resample(time = '1min').first()\n",
    "\n",
    "ds_cml2 = oddt.transform_andersson_2022_OpenMRG(\n",
    "    fn=\"data/andersson_2022_OpenMRG/OpenMRG.zip\",\n",
    "    path_to_extract_to=\"data/andersson_2022_OpenMRG/\",\n",
    "    time_start_end=(\n",
    "        \"2015-07-25T00:00\",\n",
    "        None,\n",
    "    ),  \n",
    "    restructure_data=True,\n",
    ").resample(time = '1min').first()"
   ]
  },
  {
   "cell_type": "code",
   "execution_count": 5,
   "id": "e27b5d20-6af7-4730-a484-350f6d2f6ae7",
   "metadata": {},
   "outputs": [],
   "source": [
    "ds_cmls = xr.concat([ds_cml1, ds_cml2], dim = 'time').drop_duplicates(dim = 'time')"
   ]
  },
  {
   "cell_type": "code",
   "execution_count": 6,
   "id": "4c2bcb95",
   "metadata": {},
   "outputs": [],
   "source": [
    "(\n",
    "    ds_cmls.coords[\"site_0_x\"],\n",
    "    ds_cmls.coords[\"site_0_y\"],\n",
    ") = plg.spatial.project_point_coordinates(\n",
    "    ds_cmls.site_0_lon, ds_cmls.site_0_lat, \"EPSG:32632\"\n",
    ")\n",
    "(\n",
    "    ds_cmls.coords[\"site_1_x\"],\n",
    "    ds_cmls.coords[\"site_1_y\"],\n",
    ") = plg.spatial.project_point_coordinates(\n",
    "    ds_cmls.site_1_lon, ds_cmls.site_1_lat, \"EPSG:32632\"\n",
    ")\n",
    "\n",
    "ds_cmls.coords[\"x\"] = (ds_cmls.site_0_x + ds_cmls.site_1_x) / 2\n",
    "ds_cmls.coords[\"y\"] = (ds_cmls.site_0_y + ds_cmls.site_1_y) / 2"
   ]
  },
  {
   "cell_type": "code",
   "execution_count": 7,
   "id": "21383d43",
   "metadata": {},
   "outputs": [],
   "source": [
    "# Resample to 1 minute temporal resolution\n",
    "ds_cmls = ds_cmls.resample(time=\"1min\").first(skipna=True)\n",
    "# change sublink identifiers names \n",
    "ds_cmls = ds_cmls.assign_coords(sublink_id = np.array(['channel1', 'channel2'])) \n",
    "# Drop first timestep (not present in gauges and radar)\n",
    "ds_cmls = ds_cmls.drop_isel(time=0)"
   ]
  },
  {
   "cell_type": "code",
   "execution_count": 8,
   "id": "0211cdfc",
   "metadata": {},
   "outputs": [],
   "source": [
    "ds_cmls.to_netcdf('data/andersson_2022_OpenMRG/openMRG_cml.nc')"
   ]
  },
  {
   "cell_type": "markdown",
   "id": "4f3cbe9c-7e97-4ea9-948a-f2e02b43e296",
   "metadata": {},
   "source": [
    "#### Merge city and smhi gauges with 15 min aggregation "
   ]
  },
  {
   "cell_type": "code",
   "execution_count": 9,
   "id": "dc13f35b-31e2-405c-bbc9-2724d6c293fd",
   "metadata": {},
   "outputs": [],
   "source": [
    "df_gauges_city = pd.read_csv(\n",
    "    \"data/andersson_2022_OpenMRG/gauges/city/CityGauges-2015JJA.csv\",\n",
    "    index_col=0,\n",
    "    parse_dates=True,\n",
    ")\n",
    "\n",
    "df_gauges_city_metadata = pd.read_csv(\n",
    "    \"data/andersson_2022_OpenMRG/gauges/city/CityGauges-metadata.csv\",\n",
    "    index_col=0,\n",
    ")"
   ]
  },
  {
   "cell_type": "code",
   "execution_count": 10,
   "id": "2338d4cc-ef4f-4ddf-97da-65d91667d2c4",
   "metadata": {},
   "outputs": [],
   "source": [
    "ds_gauges_city_org = xr.Dataset(\n",
    "    data_vars=dict(\n",
    "        rainfall_amount=([\"id\", \"time\"], df_gauges_city.T),\n",
    "    ),\n",
    "    coords=dict(\n",
    "        id=df_gauges_city_metadata.index.values,\n",
    "        time=df_gauges_city.index.values,\n",
    "        longitude=([\"id\"], df_gauges_city_metadata.Longitude_DecDeg),\n",
    "        latitude=([\"id\"], df_gauges_city_metadata.Latitude_DecDeg),\n",
    "        location=([\"id\"], df_gauges_city_metadata.Location),\n",
    "        type=([\"id\"], df_gauges_city_metadata.Type),\n",
    "        quantization=([\"id\"], df_gauges_city_metadata[\"Resolution (mm)\"]),\n",
    "    ),\n",
    ")\n",
    "ds_gauges_city = ds_gauges_city_org.resample(time=\"15min\", label=\"right\").sum()"
   ]
  },
  {
   "cell_type": "code",
   "execution_count": 11,
   "id": "38a3dbe2-e123-410a-a340-961d202cbfc9",
   "metadata": {},
   "outputs": [],
   "source": [
    "df_gauge_smhi = pd.read_csv(\n",
    "    \"data/andersson_2022_OpenMRG/gauges/smhi/GbgA-71420-2015JJA.csv\",\n",
    "    index_col=0,\n",
    "    parse_dates=True,\n",
    ")\n",
    "\n",
    "\n",
    "ds_gauges_smhi = xr.Dataset(\n",
    "    data_vars=dict(\n",
    "        rainfall_amount=([\"id\", \"time\"], [df_gauge_smhi.Pvol_mm.values]),\n",
    "    ),\n",
    "    coords=dict(\n",
    "        id=[\"SMHI\"],\n",
    "        time=df_gauge_smhi.index.values,\n",
    "        longitude=([\"id\"], [11.9924]),\n",
    "        latitude=([\"id\"], [57.7156]),\n",
    "        location=([\"id\"], [\"Goeteburg A\"]),\n",
    "        type=([\"id\"], [\"15 min rainfall sum\"]),\n",
    "        quantization=([\"id\"], [0.1]),\n",
    "    ),\n",
    ")"
   ]
  },
  {
   "cell_type": "code",
   "execution_count": 12,
   "id": "eb442dc6",
   "metadata": {},
   "outputs": [],
   "source": [
    "ds_gauges_city.coords[\"x\"], ds_gauges_city.coords[\"y\"] = plg.spatial.project_point_coordinates(\n",
    "    ds_gauges_city.longitude, ds_gauges_city.latitude, \"EPSG:32632\"\n",
    ")\n",
    "\n",
    "ds_gauges_smhi.coords[\"x\"], ds_gauges_smhi.coords[\"y\"] = (\n",
    "    plg.spatial.project_point_coordinates(\n",
    "        ds_gauges_smhi.longitude, ds_gauges_smhi.latitude, \"EPSG:32632\"\n",
    "    )\n",
    ")\n",
    "\n",
    "ds_gauges_city = ds_gauges_city.rename({'longitude':'lon', 'latitude':'lat'})\n",
    "ds_gauges_smhi = ds_gauges_smhi.rename({'longitude':'lon', 'latitude':'lat'})"
   ]
  },
  {
   "cell_type": "code",
   "execution_count": 13,
   "id": "e6d9cfed",
   "metadata": {},
   "outputs": [],
   "source": [
    "ds_gauges_city.to_netcdf('data/andersson_2022_OpenMRG/gauges/openmrg_gauges_city.nc')\n",
    "ds_gauges_smhi.to_netcdf('data/andersson_2022_OpenMRG/gauges/openmrg_gauges_smhi.nc')"
   ]
  },
  {
   "cell_type": "code",
   "execution_count": 14,
   "id": "2364ab26-c472-4b13-9e2f-f3ef2ea17b3a",
   "metadata": {},
   "outputs": [],
   "source": [
    "ds_gauges = xr.concat([ds_gauges_city, ds_gauges_smhi], dim=\"id\")\n",
    "ds_gauges = ds_gauges.sel(time=slice(ds_cmls.time.min(),ds_cmls.time.max()))"
   ]
  },
  {
   "cell_type": "code",
   "execution_count": 15,
   "id": "34c122fc",
   "metadata": {},
   "outputs": [],
   "source": [
    "ds_gauges.to_netcdf('data/andersson_2022_OpenMRG/gauges/openmrg_gauges.nc')"
   ]
  },
  {
   "cell_type": "markdown",
   "id": "a16a0196-a834-408f-94e0-c62f753f1845",
   "metadata": {},
   "source": [
    "#### Get radar along CML data"
   ]
  },
  {
   "cell_type": "code",
   "execution_count": 16,
   "id": "dd90aeb1-3e43-426b-a6cd-c74a1d9d059b",
   "metadata": {},
   "outputs": [],
   "source": [
    "ds_radar = xr.open_dataset(\n",
    "    \"data/andersson_2022_OpenMRG/radar/radar.nc\"\n",
    ")\n",
    "# get rain rates from radar reflecitivity\n",
    "ds_radar[\"dBZ\"] = 0.4 * ds_radar.data - 30\n",
    "ds_radar[\"R\"] = (10 ** (ds_radar.data / 10) / 200) ** (5 / 8)\n",
    "ds_radar['rainfall_amount'] = ds_radar['R'] * (5 / 60)\n",
    "\n",
    "#add lon lat grid\n",
    "x_grid, y_grid = np.meshgrid(ds_radar.x.values, ds_radar.y.values)\n",
    "transformer = pyproj.Transformer.from_crs(\n",
    "    \"+proj=stere +lat_ts=60 +ellps=bessel +lon_0=14 +lat_0=90\",\n",
    "    \"EPSG:4326\",\n",
    "    always_xy=True,\n",
    ")\n",
    "lon_grid, lat_grid = transformer.transform(xx=x_grid, yy=y_grid)\n",
    "\n",
    "ds_radar.coords[\"lon\"] = ((\"y\", \"x\"), lon_grid)\n",
    "ds_radar.coords[\"lat\"] = ((\"y\", \"x\"), lat_grid)\n",
    "\n",
    "ds_radar.coords[\"x_grid\"], ds_radar.coords[\"y_grid\"] = plg.spatial.project_point_coordinates( \n",
    "    ds_radar.lon, ds_radar.lat, \"EPSG:32632\"\n",
    ")"
   ]
  },
  {
   "cell_type": "code",
   "execution_count": 17,
   "id": "085aa18c-8422-483a-9a35-3cce0af6cb14",
   "metadata": {},
   "outputs": [],
   "source": [
    "da_intersect_weights = plg.spatial.calc_sparse_intersect_weights_for_several_cmls(\n",
    "    x1_line=ds_cmls.site_0_lon.values,\n",
    "    y1_line=ds_cmls.site_0_lat.values,\n",
    "    x2_line=ds_cmls.site_1_lon.values,\n",
    "    y2_line=ds_cmls.site_1_lat.values,\n",
    "    cml_id=ds_cmls.cml_id.values,\n",
    "    x_grid=ds_radar.lon.values,\n",
    "    y_grid=ds_radar.lat.values,\n",
    "    grid_point_location='center',\n",
    ")\n",
    "da_radar_along_cmls = plg.spatial.get_grid_time_series_at_intersections(\n",
    "    grid_data=ds_radar.rainfall_amount,\n",
    "    intersect_weights=da_intersect_weights,\n",
    ")"
   ]
  },
  {
   "cell_type": "code",
   "execution_count": 18,
   "id": "fcce6905-8e75-44a2-ae6f-bd22340ab54e",
   "metadata": {},
   "outputs": [],
   "source": [
    "# save radar along cml data\n",
    "ds_radar_along_cmls=da_radar_along_cmls.to_dataset(name='rainfall_amount')\n",
    "ds_radar_along_cmls.to_netcdf('data/andersson_2022_OpenMRG/radar/radar_along_cml.nc')"
   ]
  },
  {
   "cell_type": "code",
   "execution_count": 19,
   "id": "04925563",
   "metadata": {},
   "outputs": [],
   "source": [
    "# remove unwanted variables\n",
    "ds_radar = ds_radar.drop_vars([\"crs\", \"data\", \"dBZ\", \"R\"])\n",
    "\n",
    "# Resample to 15 min resolution from 5 min\n",
    "ds_radar = ds_radar.resample(time = '15min', label='right', closed='right').mean(skipna=True)\n",
    "ds_radar = ds_radar*3\n",
    "\n",
    "# Threshold lower values\n",
    "radar_zero = 0.01  # here in sum mm over 15 minutes\n",
    "ds_radar[\"rainfall_amount\"] = xr.where(\n",
    "    ds_radar.rainfall_amount > radar_zero, ds_radar.rainfall_amount, 0\n",
    ")\n",
    "\n",
    "# saving radar\n",
    "ds_radar.to_netcdf('data/andersson_2022_OpenMRG/radar/openmrg_rad.nc') "
   ]
  },
  {
   "cell_type": "markdown",
   "id": "b07045da-ba96-48ff-a99f-1794909cac14",
   "metadata": {},
   "source": [
    "## 1.2 Download OpenRainER dataset "
   ]
  },
  {
   "cell_type": "code",
   "execution_count": 20,
   "id": "5d64ac6e-82a2-4626-a933-8610491f3a9f",
   "metadata": {},
   "outputs": [],
   "source": [
    "local_path = './data/covi_2024_OpenRainER/'"
   ]
  },
  {
   "cell_type": "code",
   "execution_count": 21,
   "id": "b92bcdbd-2340-4660-a98d-4ac6a398c615",
   "metadata": {},
   "outputs": [
    {
     "name": "stdout",
     "output_type": "stream",
     "text": [
      "File already exists at desired location ./data/covi_2024_OpenRainER/files-archive.zip\n",
      "Not downloading!\n"
     ]
    }
   ],
   "source": [
    "# storing to external datasource as this is big due to the radar ref\n",
    "oddt.download_data_file(\n",
    "    url=\"https://zenodo.org/api/records/14731404/files-archive\",\n",
    "    local_path=local_path, \n",
    "    local_file_name='files-archive.zip', print_output=True\n",
    ")"
   ]
  },
  {
   "cell_type": "code",
   "execution_count": 22,
   "id": "74a80388",
   "metadata": {},
   "outputs": [],
   "source": [
    "# unzip files\n",
    "with zipfile.ZipFile(local_path+'files-archive.zip') as zfile:\n",
    "    zfile.extractall(local_path)"
   ]
  },
  {
   "cell_type": "code",
   "execution_count": 23,
   "id": "4dcd9e32",
   "metadata": {},
   "outputs": [
    {
     "name": "stderr",
     "output_type": "stream",
     "text": [
      "C:\\Users\\Utente\\AppData\\Local\\Temp\\ipykernel_9152\\418677851.py:8: DeprecationWarning: Python 3.14 will, by default, filter extracted tar archives and reject files or modify their metadata. Use the filter argument to control this behavior.\n",
      "  tar.extractall(local_path)  # Estrai tutto nella stessa directory\n"
     ]
    }
   ],
   "source": [
    "#untar dowloaded files\n",
    "for tar_filename in os.listdir(local_path):\n",
    "    if tar_filename.endswith('.tar'):\n",
    "        tar_path = os.path.join(local_path, tar_filename)\n",
    "        \n",
    "        # Estrazione del file .tar\n",
    "        with tarfile.open(tar_path, 'r') as tar:\n",
    "            tar.extractall(local_path)  # Estrai tutto nella stessa directory"
   ]
  },
  {
   "cell_type": "code",
   "execution_count": 24,
   "id": "b41c677a-24df-4297-9751-e4fc992bb4c3",
   "metadata": {},
   "outputs": [],
   "source": [
    "# unzip through all files in the directory\n",
    "for filename in os.listdir(local_path):\n",
    "    # Check if the file has a .gz extension | select only 2 month\n",
    "    if (filename.endswith('.gz')) & (('202207' in filename) | ('202208' in filename)) :\n",
    "        gz_path = os.path.join(local_path, filename)\n",
    "        unzipped_path = os.path.join(local_path, filename[:-3])  # Remove the .gz extension\n",
    "        \n",
    "        # Unzip the file\n",
    "        with gzip.open(gz_path, 'rb') as f_in:\n",
    "            with open(unzipped_path, 'wb') as f_out:\n",
    "                shutil.copyfileobj(f_in, f_out)\n",
    "        \n",
    "        # Delete the original .gz file \n",
    "        os.remove(gz_path)"
   ]
  },
  {
   "cell_type": "markdown",
   "id": "174722e1",
   "metadata": {},
   "source": [
    "#### Merge AWS to one dataset"
   ]
  },
  {
   "cell_type": "code",
   "execution_count": 25,
   "id": "78d055dc-8b41-461e-a36e-906b22232306",
   "metadata": {},
   "outputs": [],
   "source": [
    "fns = sorted(glob.glob(local_path+\"/AWS_20220[7-8]*nc\"))"
   ]
  },
  {
   "cell_type": "code",
   "execution_count": 26,
   "id": "a3668944-fe82-41fa-859d-b33dbef00604",
   "metadata": {},
   "outputs": [
    {
     "name": "stderr",
     "output_type": "stream",
     "text": [
      "100%|██████████| 2/2 [00:00<00:00, 33.32it/s]\n",
      "100%|██████████| 2/2 [00:00<00:00, 39.91it/s]\n"
     ]
    }
   ],
   "source": [
    "ids=[]\n",
    "for fn in tqdm(fns):\n",
    "    tmp = xr.open_dataset(fn)\n",
    "    ids.append(set(tmp.id.values))\n",
    "common_ids = list(set.intersection(*ids))\n",
    "\n",
    "rainfall=[]\n",
    "for fn in tqdm(fns):\n",
    "    tmp = xr.open_dataset(fn)\n",
    "    tmp = tmp.sel(id=common_ids)\n",
    "    rainfall.append(tmp.rainfall_amount.load())\n"
   ]
  },
  {
   "cell_type": "code",
   "execution_count": 27,
   "id": "624cd06d-257a-490b-9bd7-6fa6e07f8aa1",
   "metadata": {},
   "outputs": [],
   "source": [
    "ds_gauges = xr.concat(rainfall,dim='time')\n",
    "# RG projection\n",
    "ds_gauges = ds_gauges.rename({'longitude':'lon', 'latitude':'lat'})\n",
    "\n",
    "ds_gauges.coords[\"x\"], ds_gauges.coords[\"y\"] = plg.spatial.project_point_coordinates(\n",
    "    ds_gauges.lon, ds_gauges.lat, \"EPSG:32632\"\n",
    ")\n",
    "ds_gauges.to_netcdf(local_path+\"AWS_rainfall.nc\")"
   ]
  },
  {
   "cell_type": "markdown",
   "id": "d519f14d-9a5a-474f-ba5b-d576aeafc7cd",
   "metadata": {},
   "source": [
    "#### Merge cmls to one dataset"
   ]
  },
  {
   "cell_type": "code",
   "execution_count": 28,
   "id": "aa39a141-428a-4eba-b0a3-a2cee4ebd121",
   "metadata": {},
   "outputs": [
    {
     "name": "stderr",
     "output_type": "stream",
     "text": [
      "100%|██████████| 2/2 [00:00<00:00, 24.16it/s]\n",
      "100%|██████████| 2/2 [00:00<00:00,  2.50it/s]\n"
     ]
    }
   ],
   "source": [
    "fns = sorted(glob.glob(local_path+\"CML_20220[7-8]*\"))\n",
    "ids=[]\n",
    "for fn in tqdm(fns):\n",
    "    tmp = xr.open_dataset(fn)\n",
    "    ids.append(set(tmp.cml_id.values))\n",
    "common_ids = list(set.intersection(*ids))\n",
    "\n",
    "cmls=[]\n",
    "for fn in tqdm(fns):\n",
    "    tmp = xr.open_dataset(fn) \n",
    "    tmp = tmp.sel(cml_id=common_ids)\n",
    "    cmls.append(tmp.load())\n"
   ]
  },
  {
   "cell_type": "code",
   "execution_count": 29,
   "id": "ebf9079e-1363-4eab-9a7d-11c7d97d6f02",
   "metadata": {},
   "outputs": [],
   "source": [
    "ds_cmls = xr.concat(cmls,dim='time')\n",
    "\n",
    "(\n",
    "    ds_cmls.coords[\"site_0_x\"],\n",
    "    ds_cmls.coords[\"site_0_y\"],\n",
    ") = plg.spatial.project_point_coordinates(\n",
    "    ds_cmls.site_0_lon, ds_cmls.site_0_lat, \"EPSG:32632\"\n",
    ")\n",
    "(\n",
    "    ds_cmls.coords[\"site_1_x\"],\n",
    "    ds_cmls.coords[\"site_1_y\"],\n",
    ") = plg.spatial.project_point_coordinates(\n",
    "    ds_cmls.site_1_lon, ds_cmls.site_1_lat, \"EPSG:32632\"\n",
    ")\n",
    "\n",
    "ds_cmls.coords[\"x\"] = (ds_cmls.site_0_x + ds_cmls.site_1_x) / 2\n",
    "ds_cmls.coords[\"y\"] = (ds_cmls.site_0_y + ds_cmls.site_1_y) / 2\n",
    "\n",
    "ds_cmls.to_netcdf(local_path + \"/OpenRainER_cmls.nc\")"
   ]
  },
  {
   "cell_type": "markdown",
   "id": "f9d16f35-0528-4873-9ce2-cefdaea58b53",
   "metadata": {},
   "source": [
    "#### Extracting radar along CML path for each month\n",
    "from raw files again as its more memory efficient.."
   ]
  },
  {
   "cell_type": "code",
   "execution_count": 30,
   "id": "fb20e3e6-a7e1-49d7-8a5b-008f53c43568",
   "metadata": {},
   "outputs": [],
   "source": [
    "local_path = './data/covi_2024_OpenRainER/'\n",
    "fns_cml = glob.glob(local_path+\"/CML_20220[7-8]*\")\n",
    "fns_radar = glob.glob(local_path+\"/RADrain_20220[7-8]*\")"
   ]
  },
  {
   "cell_type": "code",
   "execution_count": 31,
   "id": "f155ee3f-016b-4fb6-8765-7715f75fddf4",
   "metadata": {},
   "outputs": [
    {
     "data": {
      "text/plain": [
       "True"
      ]
     },
     "execution_count": 31,
     "metadata": {},
     "output_type": "execute_result"
    }
   ],
   "source": [
    "len(fns_cml) == len(fns_radar)"
   ]
  },
  {
   "cell_type": "code",
   "execution_count": 32,
   "id": "e25af6d9-4c22-4514-915b-b47bede2bdf6",
   "metadata": {},
   "outputs": [
    {
     "name": "stderr",
     "output_type": "stream",
     "text": [
      "100%|██████████| 2/2 [00:00<00:00, 127.48it/s]\n"
     ]
    }
   ],
   "source": [
    "fns = sorted(glob.glob(local_path + \"/CML_20220[7-8]*\"))\n",
    "ids=[]\n",
    "for fn in tqdm(fns):\n",
    "    tmp = xr.open_dataset(fn)\n",
    "    ids.append(set(tmp.cml_id.values))\n",
    "common_ids = list(set.intersection(*ids))"
   ]
  },
  {
   "cell_type": "code",
   "execution_count": 33,
   "id": "0645e531-e3b9-42e1-9fc6-e2e0f2b95532",
   "metadata": {},
   "outputs": [
    {
     "name": "stderr",
     "output_type": "stream",
     "text": [
      "100%|██████████| 2/2 [00:08<00:00,  4.08s/it]\n"
     ]
    }
   ],
   "source": [
    "list_radar_along_cmls=[]\n",
    "list_radar=[]\n",
    "count=[]\n",
    "for i in tqdm(range(len(fns_cml))):\n",
    "    ds_cml = xr.open_dataset(fns_cml[i]).sel(cml_id=common_ids)\n",
    "    ds_radar = xr.open_dataset(fns_radar[i])\n",
    "    # remove unnecessary cords and variables\n",
    "    ds_radar = ds_radar.drop_vars(['geo_dim','mesh_dim','mosaic'])\n",
    "    #add lon lat grid\n",
    "    lon_grid, lat_grid = np.meshgrid(ds_radar.lon.values, ds_radar.lat.values)\n",
    "    count.append(len(ds_radar.time))\n",
    "    ds_radar.coords[\"lon_grid\"] = ((\"lat\", \"lon\"), lon_grid)\n",
    "    ds_radar.coords[\"lat_grid\"] = ((\"lat\", \"lon\"), lat_grid)\n",
    "\n",
    "    ds_radar = ds_radar.rename({'lon':'x', 'lat':'y'})\n",
    "    ds_radar = ds_radar.rename({'lon_grid':'lon', 'lat_grid':'lat'})\n",
    "\n",
    "    ds_radar.coords[\"x_grid\"], ds_radar.coords[\"y_grid\"] = plg.spatial.project_point_coordinates( \n",
    "        ds_radar.lon, ds_radar.lat, \"EPSG:32632\"\n",
    "        )\n",
    "\n",
    "    list_radar.append(ds_radar)\n",
    "\n",
    "    # calculate intersection weights\n",
    "    da_intersect_weights = plg.spatial.calc_sparse_intersect_weights_for_several_cmls(\n",
    "        x1_line=ds_cml.site_0_lon.values,\n",
    "        y1_line=ds_cml.site_0_lat.values,\n",
    "        x2_line=ds_cml.site_1_lon.values,\n",
    "        y2_line=ds_cml.site_1_lat.values,\n",
    "        cml_id=ds_cml.cml_id.values,\n",
    "        x_grid=ds_radar.lon.values,\n",
    "        y_grid=ds_radar.lat.values,\n",
    "        grid_point_location='center',\n",
    "    )\n",
    "    # calculate rainfall along intersectons\n",
    "    list_radar_along_cmls.append(plg.spatial.get_grid_time_series_at_intersections(\n",
    "        grid_data=ds_radar.rainfall_amount,\n",
    "        intersect_weights=da_intersect_weights,\n",
    "    ))\n",
    "    "
   ]
  },
  {
   "cell_type": "code",
   "execution_count": 34,
   "id": "1e036fde-c903-433a-9c58-cb141391b617",
   "metadata": {},
   "outputs": [],
   "source": [
    "ds_radar = xr.concat(list_radar,dim='time')\n",
    "ds_radalong = xr.concat(list_radar_along_cmls,dim='time').to_dataset(name='rainfall_amount')"
   ]
  },
  {
   "cell_type": "code",
   "execution_count": 35,
   "id": "8cbf8018-4761-4441-aa44-8583cf8ef598",
   "metadata": {},
   "outputs": [],
   "source": [
    "# fill in missing time steps\n",
    "ds_radar = ds_radar.reindex({'time':pd.date_range(ds_radar.time.min().values,ds_radar.time.max().values,freq='15min')})\n",
    "ds_radalong = ds_radalong.reindex({'time':pd.date_range(ds_radalong.time.min().values,ds_radalong.time.max().values,freq='15min')})"
   ]
  },
  {
   "cell_type": "code",
   "execution_count": 36,
   "id": "34a8b762",
   "metadata": {},
   "outputs": [],
   "source": [
    "# Threshold lower values in radar\n",
    "radar_zero = 0.01  # here in sum mm over 15 minutes\n",
    "ds_radar[\"rainfall_amount\"] = xr.where(\n",
    "    ds_radar.rainfall_amount > radar_zero, ds_radar.rainfall_amount, 0\n",
    ")"
   ]
  },
  {
   "cell_type": "code",
   "execution_count": 37,
   "id": "88aca149-c923-4831-a052-fb0e3cb3983c",
   "metadata": {},
   "outputs": [],
   "source": [
    "# saving both radar and radar_along_cml\n",
    "ds_radar.to_netcdf(local_path + \"/openrainer_radar.nc\")\n",
    "ds_radalong.to_netcdf(local_path + \"/rad_along_cml.nc\")"
   ]
  }
 ],
 "metadata": {
  "kernelspec": {
   "display_name": "BasicEnv",
   "language": "python",
   "name": "python3"
  },
  "language_info": {
   "codemirror_mode": {
    "name": "ipython",
    "version": 3
   },
   "file_extension": ".py",
   "mimetype": "text/x-python",
   "name": "python",
   "nbconvert_exporter": "python",
   "pygments_lexer": "ipython3",
   "version": "3.12.6"
  }
 },
 "nbformat": 4,
 "nbformat_minor": 5
}
