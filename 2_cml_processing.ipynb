{
 "cells": [
  {
   "cell_type": "markdown",
   "id": "9e8629e9-a534-43b1-b0a2-6d6f0a6df943",
   "metadata": {},
   "source": [
    "# 1. CML processing \n",
    "In this notebook cml are processed according to the following steps:\n",
    "* calculate total loss\n",
    "* simple quality control\n",
    "* Wet&Dry Classification\n",
    "* baseline computation \n",
    "* rain-induced attenuation\n",
    "* rain rate estimate"
   ]
  },
  {
   "cell_type": "code",
   "execution_count": 16,
   "id": "f583a92c-71da-43c8-8238-34d9ebe4ff31",
   "metadata": {},
   "outputs": [],
   "source": [
    "import xarray as xr\n",
    "import matplotlib.pyplot as plt\n",
    "import numpy as np\n",
    "import pycomlink as pycml\n",
    "import pandas as pd\n",
    "import poligrain as plg"
   ]
  },
  {
   "cell_type": "markdown",
   "id": "6125ae77",
   "metadata": {},
   "source": [
    "## 1.1 CML PROCESSING & QUALITY CONTROL"
   ]
  },
  {
   "cell_type": "code",
   "execution_count": 17,
   "id": "d6196c48",
   "metadata": {},
   "outputs": [],
   "source": [
    "def CML_preprocessing(ds_cmls):\n",
    "    '''\n",
    "    compute total loss and perform CML quality control\n",
    "    '''\n",
    "    # calculate total loss\n",
    "    ds_cmls[\"tl\"] = ds_cmls.tsl - ds_cmls.rsl\n",
    "\n",
    "    # remove cmls with strong diurnal cycles\n",
    "    keep = np.where(\n",
    "        (\n",
    "         (ds_cmls.tl.rolling(time=60 * 5, center=True).std() > 2).mean(dim=\"time\") <= 0.1\n",
    "        ).all(dim=\"sublink_id\")\n",
    "    )[0]\n",
    "    ds_cmls = ds_cmls.isel(cml_id=keep)\n",
    "    \n",
    "    # remove cmls with very noisy periods\n",
    "    keep = np.where(\n",
    "        (\n",
    "            (ds_cmls.tl.rolling(time=60, center=True).std() > 0.8).mean(dim=\"time\") <= 0.35\n",
    "        ).all(dim=\"sublink_id\")\n",
    "    )[0]\n",
    "    ds_cmls = ds_cmls.isel(cml_id=keep)\n",
    "\n",
    "    return ds_cmls"
   ]
  },
  {
   "cell_type": "code",
   "execution_count": null,
   "id": "c69c6edf",
   "metadata": {},
   "outputs": [],
   "source": [
    "def WetDryclassification(ds_cmls, rad):\n",
    "    TimeSeq = pd.date_range(ds_cmls.time.values[0], ds_cmls.time.values[-1], freq=\"min\")\n",
    "    ds_cmls = ds_cmls.reindex({\"time\": TimeSeq})\n",
    "    ds_cmls[\"wet\"] = ((\"cml_id\", \"sublink_id\", \"time\"), np.zeros(ds_cmls.rsl.shape, dtype=\"bool\"))\n",
    "    latitudes = np.array([rad.lat.values] * len(rad.lon.values)).transpose()\n",
    "    longitudes = np.array([rad.lon.values] * len(rad.lat.values))\n",
    "    da_intersect_weights = (\n",
    "        plg.spatial.calc_sparse_intersect_weights_for_several_cmls(\n",
    "            x1_line=ds_cmls.site_0_lon.values,\n",
    "            y1_line=ds_cmls.site_0_lat.values,\n",
    "            x2_line=ds_cmls.site_1_lon.values,\n",
    "            y2_line=ds_cmls.site_1_lat.values,\n",
    "            cml_id=ds_cmls.cml_id.values,\n",
    "            x_grid=longitudes,\n",
    "            y_grid=latitudes,\n",
    "            grid_point_location=\"center\",\n",
    "        )\n",
    "    )\n",
    "    radar_along_cmls = (\n",
    "        plg.spatial.get_grid_time_series_at_intersections(\n",
    "            grid_data=rad.rainfall_amount,\n",
    "            intersect_weights=da_intersect_weights,\n",
    "        )\n",
    "    )\n",
    "    for ID in ds_cmls.cml_id.values:\n",
    "        radAlong = radar_along_cmls.sel(cml_id=ID)\n",
    "        # dry if radar along CML == 0\n",
    "        dry_times = radAlong.time.where(radAlong == 0, drop=True).values\n",
    "        mask = np.zeros(len(ds_cmls.time), dtype=\"bool\")\n",
    "        if len(dry_times) > 0:\n",
    "            dry_intervals = np.array(\n",
    "                [(t - np.timedelta64(15, \"m\"), t) for t in dry_times]\n",
    "            )\n",
    "            mask = np.any(\n",
    "                [\n",
    "                    (ds_cmls.time.values > start) & (ds_cmls.time.values <= end)\n",
    "                    for start, end in dry_intervals\n",
    "                ],\n",
    "                axis=0,\n",
    "            )\n",
    "        ds_cmls[\"wet\"].loc[{\"cml_id\": ID, \"sublink_id\": \"channel1\"}] = ~mask\n",
    "        ds_cmls[\"wet\"].loc[{\"cml_id\": ID, \"sublink_id\": \"channel2\"}] = ~mask   \n",
    "    return ds_cmls "
   ]
  },
  {
   "cell_type": "code",
   "execution_count": 18,
   "id": "acf80680",
   "metadata": {},
   "outputs": [],
   "source": [
    "def CML_processing(ds_cmls):\n",
    "    '''\n",
    "    cml processing\n",
    "    '''\n",
    "    # calculate wet periods\n",
    "    roll_std_dev = ds_cmls.tl.rolling(time=60, center=True).std()\n",
    "    threshold = 1.12 * roll_std_dev.quantile(0.8, dim=\"time\")\n",
    "    ds_cmls[\"wet_std\"] = roll_std_dev > threshold\n",
    "    \n",
    "    # calculate baseline\n",
    "    ds_cmls[\"baseline\"] = pycml.processing.baseline.baseline_constant(\n",
    "        trsl=ds_cmls.tl,\n",
    "        wet=ds_cmls.wet_std,\n",
    "        n_average_last_dry=5,\n",
    "    )    \n",
    "\n",
    "    # calculate wet antenna effect\n",
    "    ds_cmls[\"A_obs\"] = ds_cmls.tl - ds_cmls.baseline\n",
    "    ds_cmls[\"A_obs\"] = ds_cmls.A_obs.where(ds_cmls.A_obs >= 0, 0)\n",
    "    ds_cmls[\"waa\"] = pycml.processing.wet_antenna.waa_pastorek_2021_from_A_obs(\n",
    "        A_obs=ds_cmls.A_obs,\n",
    "        f_Hz=ds_cmls.frequency * 1e6,\n",
    "        pol=ds_cmls.polarization.data,\n",
    "        L_km=ds_cmls.length / 1000,\n",
    "        A_max=6,\n",
    "        zeta=0.7,  \n",
    "        d=0.15, \n",
    "    )\n",
    "    \n",
    "    # calculate attenuation caused by rain and remove negative attenuation\n",
    "    ds_cmls[\"A\"] = ds_cmls.tl - ds_cmls.baseline - ds_cmls.waa\n",
    "    ds_cmls[\"A\"].data[ds_cmls.A < 0] = 0\n",
    "    # derive rain rate via the k-R relation\n",
    "    ds_cmls[\"R\"] = pycml.processing.k_R_relation.calc_R_from_A(\n",
    "        A=ds_cmls.A,\n",
    "        L_km=ds_cmls.length.astype(float) / 1000,  \n",
    "        f_GHz=ds_cmls.frequency / 1000,  \n",
    "        pol=ds_cmls.polarization,\n",
    "    )\n",
    "    \n",
    "    #calculate 1minute acc. precipitation  \n",
    "    ds_cmls['R'] = ds_cmls['R']/60\n",
    "    # leave only R \n",
    "    ds_cmls = ds_cmls.drop_vars(['wet_std', 'baseline', 'A_obs', 'rsl', 'tsl', 'tl', 'A', 'waa'])\n",
    "\n",
    "    return ds_cmls\n",
    "\n",
    "\n",
    "# how we use the measure .. mean of the cannels ?"
   ]
  },
  {
   "cell_type": "markdown",
   "id": "9d049ea2-4b5a-4a91-b44c-ffc7d234649c",
   "metadata": {},
   "source": [
    "## OpenMRG"
   ]
  },
  {
   "cell_type": "code",
   "execution_count": 13,
   "id": "5987e619",
   "metadata": {},
   "outputs": [],
   "source": [
    "#open dataset\n",
    "ds_cmls = xr.open_dataset('data/andersson_2022_OpenMRG/openMRG_cml.nc')"
   ]
  },
  {
   "cell_type": "code",
   "execution_count": 14,
   "id": "67d6362e-0b53-4e1f-96bc-969599e4fa5e",
   "metadata": {},
   "outputs": [],
   "source": [
    "# Resample to 1 minute temporal resolution\n",
    "ds_cmls = ds_cmls.resample(time=\"1min\").first(skipna=True)"
   ]
  },
  {
   "cell_type": "code",
   "execution_count": null,
   "id": "9e58e837",
   "metadata": {},
   "outputs": [],
   "source": [
    "ds_cmls = CML_preprocessing(ds_cmls)\n",
    "ds_cmls = CML_processing(ds_cmls) "
   ]
  },
  {
   "cell_type": "code",
   "execution_count": null,
   "id": "49abc5d8",
   "metadata": {},
   "outputs": [],
   "source": [
    "ds_cmls.to_netcdf('CMLprocessed_OpenMRG.nc')"
   ]
  },
  {
   "cell_type": "markdown",
   "id": "e79bb1b6",
   "metadata": {},
   "source": [
    "## OpenRainER"
   ]
  },
  {
   "cell_type": "code",
   "execution_count": 28,
   "id": "2068d0eb",
   "metadata": {},
   "outputs": [],
   "source": [
    "#open dataset\n",
    "ds_cmls = xr.open_dataset('data/OpenRainER/CML_202101010000_202101312359.nc')"
   ]
  },
  {
   "cell_type": "code",
   "execution_count": 32,
   "id": "7753281d",
   "metadata": {},
   "outputs": [],
   "source": [
    "# correct CML lenght & polarization\n",
    "ds_cmls['length'] = ds_cmls['length']*1000\n",
    "ds_cmls['polarization'] = ds_cmls.polarization.fillna('vertical')"
   ]
  },
  {
   "cell_type": "code",
   "execution_count": null,
   "id": "0d9565e2",
   "metadata": {},
   "outputs": [],
   "source": [
    "ds_cmls = CML_preprocessing(ds_cmls)\n",
    "ds_cmls = CML_processing(ds_cmls) "
   ]
  },
  {
   "cell_type": "code",
   "execution_count": null,
   "id": "855f4439",
   "metadata": {},
   "outputs": [],
   "source": [
    "ds_cmls.to_netcdf('CMLprocessed_OpenRainER.nc')"
   ]
  }
 ],
 "metadata": {
  "kernelspec": {
   "display_name": "BasicEnv",
   "language": "python",
   "name": "python3"
  },
  "language_info": {
   "codemirror_mode": {
    "name": "ipython",
    "version": 3
   },
   "file_extension": ".py",
   "mimetype": "text/x-python",
   "name": "python",
   "nbconvert_exporter": "python",
   "pygments_lexer": "ipython3",
   "version": "3.12.6"
  }
 },
 "nbformat": 4,
 "nbformat_minor": 5
}
